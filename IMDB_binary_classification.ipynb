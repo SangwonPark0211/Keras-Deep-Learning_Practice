{
  "nbformat": 4,
  "nbformat_minor": 0,
  "metadata": {
    "colab": {
      "name": "IMDB binary classification",
      "provenance": [],
      "collapsed_sections": [],
      "authorship_tag": "ABX9TyNBXuvd6Wjb7Bhma196uM8P"
    },
    "kernelspec": {
      "name": "python3",
      "display_name": "Python 3"
    },
    "language_info": {
      "name": "python"
    },
    "accelerator": "TPU"
  },
  "cells": [
    {
      "cell_type": "markdown",
      "metadata": {
        "id": "Nevd2CC1gjLT"
      },
      "source": [
        "# IMDB binary classification (movie review classification)"
      ]
    },
    {
      "cell_type": "markdown",
      "metadata": {
        "id": "1oG8KglPieN5"
      },
      "source": [
        "## Load data"
      ]
    },
    {
      "cell_type": "code",
      "metadata": {
        "id": "aBc4TdISgg0X"
      },
      "source": [
        "from keras.datasets import imdb\n",
        "\n",
        "(train_data, train_labels), (test_data, test_labels) = imdb.load_data(num_words=10000)"
      ],
      "execution_count": null,
      "outputs": []
    },
    {
      "cell_type": "markdown",
      "metadata": {
        "id": "VAAV8i7jiivK"
      },
      "source": [
        "## Preprocessing\n",
        "- Convert data to one-hot encoding"
      ]
    },
    {
      "cell_type": "code",
      "metadata": {
        "id": "p48NzoWOiVH9"
      },
      "source": [
        "import numpy as np\n",
        "\n",
        "def vectorize_sequences(sequences, dimension=10000):\n",
        "  results = np.zeros((len(sequences), dimension))\n",
        "  for i, sequence in enumerate(sequences):\n",
        "    results[i, sequence] = 1\n",
        "  return results\n",
        "\n",
        "x_train = vectorize_sequences(train_data)\n",
        "x_test = vectorize_sequences(test_data)\n",
        "y_train = np.asarray(train_labels).astype('float32')\n",
        "y_test = np.asarray(test_labels).astype('float32')"
      ],
      "execution_count": null,
      "outputs": []
    },
    {
      "cell_type": "markdown",
      "metadata": {
        "id": "Z1qSSr1vj7El"
      },
      "source": [
        "## Model definition(2 hidden layers, 16 hidden nodes)"
      ]
    },
    {
      "cell_type": "code",
      "metadata": {
        "id": "4O0bZW-TjuKg"
      },
      "source": [
        "from keras import models, layers\n",
        "\n",
        "model = models.Sequential()\n",
        "model.add(layers.Dense(16, activation='relu', input_shape=(10000,)))\n",
        "model.add(layers.Dense(16, activation='relu'))\n",
        "model.add(layers.Dense(1, activation='sigmoid'))"
      ],
      "execution_count": null,
      "outputs": []
    },
    {
      "cell_type": "markdown",
      "metadata": {
        "id": "hhWt3KItkknl"
      },
      "source": [
        "## Model compile"
      ]
    },
    {
      "cell_type": "code",
      "metadata": {
        "id": "mVsZRIwKkjmG"
      },
      "source": [
        "model.compile(optimizer='rmsprop', loss='binary_crossentropy', metrics=['acc'])"
      ],
      "execution_count": null,
      "outputs": []
    },
    {
      "cell_type": "markdown",
      "metadata": {
        "id": "fZS6WbVqk8FN"
      },
      "source": [
        "## Preparing Validation set"
      ]
    },
    {
      "cell_type": "code",
      "metadata": {
        "id": "3cFTLOJPk1MW"
      },
      "source": [
        "x_val = x_train[:10000]\n",
        "partial_x_train = x_train[10000:]\n",
        "y_val = y_train[:10000]\n",
        "partial_y_train = y_train[10000:]"
      ],
      "execution_count": null,
      "outputs": []
    },
    {
      "cell_type": "markdown",
      "metadata": {
        "id": "rCrmf8EFlz8P"
      },
      "source": [
        "## Training model"
      ]
    },
    {
      "cell_type": "code",
      "metadata": {
        "colab": {
          "base_uri": "https://localhost:8080/"
        },
        "id": "jTdq8uPRlOAx",
        "outputId": "c4ef0f4b-0122-4c71-8f86-49f7a290aa20"
      },
      "source": [
        "model.fit(partial_x_train, partial_y_train, epochs=20, batch_size=512, validation_data=(x_val, y_val))"
      ],
      "execution_count": null,
      "outputs": [
        {
          "output_type": "stream",
          "name": "stdout",
          "text": [
            "Epoch 1/20\n",
            "30/30 [==============================] - 2s 76ms/step - loss: 0.1472 - acc: 0.9495 - val_loss: 0.1497 - val_acc: 0.9481\n",
            "Epoch 2/20\n",
            "30/30 [==============================] - 1s 37ms/step - loss: 0.1223 - acc: 0.9590 - val_loss: 0.1606 - val_acc: 0.9411\n",
            "Epoch 3/20\n",
            "30/30 [==============================] - 1s 36ms/step - loss: 0.1042 - acc: 0.9655 - val_loss: 0.1715 - val_acc: 0.9366\n",
            "Epoch 4/20\n",
            "30/30 [==============================] - 1s 36ms/step - loss: 0.0848 - acc: 0.9748 - val_loss: 0.2024 - val_acc: 0.9238\n",
            "Epoch 5/20\n",
            "30/30 [==============================] - 1s 36ms/step - loss: 0.0735 - acc: 0.9774 - val_loss: 0.2092 - val_acc: 0.9240\n",
            "Epoch 6/20\n",
            "30/30 [==============================] - 1s 40ms/step - loss: 0.0581 - acc: 0.9844 - val_loss: 0.2260 - val_acc: 0.9203\n",
            "Epoch 7/20\n",
            "30/30 [==============================] - 1s 37ms/step - loss: 0.0506 - acc: 0.9873 - val_loss: 0.2514 - val_acc: 0.9144\n",
            "Epoch 8/20\n",
            "30/30 [==============================] - 1s 37ms/step - loss: 0.0409 - acc: 0.9903 - val_loss: 0.2800 - val_acc: 0.9092\n",
            "Epoch 9/20\n",
            "30/30 [==============================] - 1s 37ms/step - loss: 0.0337 - acc: 0.9927 - val_loss: 0.2990 - val_acc: 0.9101\n",
            "Epoch 10/20\n",
            "30/30 [==============================] - 1s 37ms/step - loss: 0.0272 - acc: 0.9943 - val_loss: 0.3284 - val_acc: 0.9079\n",
            "Epoch 11/20\n",
            "30/30 [==============================] - 1s 37ms/step - loss: 0.0215 - acc: 0.9956 - val_loss: 0.3590 - val_acc: 0.9041\n",
            "Epoch 12/20\n",
            "30/30 [==============================] - 1s 37ms/step - loss: 0.0165 - acc: 0.9973 - val_loss: 0.4029 - val_acc: 0.9011\n",
            "Epoch 13/20\n",
            "30/30 [==============================] - 1s 40ms/step - loss: 0.0122 - acc: 0.9985 - val_loss: 0.4318 - val_acc: 0.8988\n",
            "Epoch 14/20\n",
            "30/30 [==============================] - 1s 36ms/step - loss: 0.0116 - acc: 0.9981 - val_loss: 0.4556 - val_acc: 0.8989\n",
            "Epoch 15/20\n",
            "30/30 [==============================] - 1s 37ms/step - loss: 0.0074 - acc: 0.9994 - val_loss: 0.4832 - val_acc: 0.8978\n",
            "Epoch 16/20\n",
            "30/30 [==============================] - 1s 37ms/step - loss: 0.0049 - acc: 0.9997 - val_loss: 0.5881 - val_acc: 0.8853\n",
            "Epoch 17/20\n",
            "30/30 [==============================] - 1s 37ms/step - loss: 0.0057 - acc: 0.9994 - val_loss: 0.5552 - val_acc: 0.8923\n",
            "Epoch 18/20\n",
            "30/30 [==============================] - 1s 36ms/step - loss: 0.0025 - acc: 0.9999 - val_loss: 0.6085 - val_acc: 0.8839\n",
            "Epoch 19/20\n",
            "30/30 [==============================] - 1s 39ms/step - loss: 0.0039 - acc: 0.9995 - val_loss: 0.6266 - val_acc: 0.8900\n",
            "Epoch 20/20\n",
            "30/30 [==============================] - 1s 36ms/step - loss: 0.0014 - acc: 0.9999 - val_loss: 0.6550 - val_acc: 0.8889\n"
          ]
        },
        {
          "output_type": "execute_result",
          "data": {
            "text/plain": [
              "<keras.callbacks.History at 0x7fd35469bcd0>"
            ]
          },
          "metadata": {},
          "execution_count": 30
        }
      ]
    },
    {
      "cell_type": "markdown",
      "metadata": {
        "id": "ZuMis4KVmN0I"
      },
      "source": [
        "## Drawing graph"
      ]
    },
    {
      "cell_type": "markdown",
      "metadata": {
        "id": "UEuGgysbnC9T"
      },
      "source": [
        "#### 1) Epochs-Loss graph"
      ]
    },
    {
      "cell_type": "code",
      "metadata": {
        "colab": {
          "base_uri": "https://localhost:8080/",
          "height": 295
        },
        "id": "_d3fSzhGmBum",
        "outputId": "51db691c-932c-4fbc-f4d3-f5ac0d2939f6"
      },
      "source": [
        "import matplotlib.pyplot as plt\n",
        "\n",
        "history_dict = history.history\n",
        "loss = history_dict['loss']\n",
        "val_loss = history_dict['val_loss']\n",
        "\n",
        "epochs = range(1, len(loss) + 1)\n",
        "\n",
        "plt.plot(epochs, loss, 'bo', label='Training loss')\n",
        "plt.plot(epochs, val_loss, 'b', label='Validation loss')\n",
        "plt.title('Training and validation loss')\n",
        "plt.xlabel('Epochs')\n",
        "plt.ylabel('Loss')\n",
        "plt.legend()\n",
        "\n",
        "plt.show()"
      ],
      "execution_count": null,
      "outputs": [
        {
          "output_type": "display_data",
          "data": {
            "image/png": "[encoded data removed]",
            "text/plain": [
              "<Figure size 432x288 with 1 Axes>"
            ]
          },
          "metadata": {
            "needs_background": "light"
          }
        }
      ]
    },
    {
      "cell_type": "markdown",
      "metadata": {
        "id": "o8B7zpyWnNSM"
      },
      "source": [
        "#### 2) Epochs-Acc graph"
      ]
    },
    {
      "cell_type": "code",
      "metadata": {
        "colab": {
          "base_uri": "https://localhost:8080/",
          "height": 295
        },
        "id": "t5yiDYyEmZIZ",
        "outputId": "5b16d6b4-4e4b-447f-f3c7-5b8939bc7ce6"
      },
      "source": [
        "plt.clf() # 그래프 초기화\n",
        "acc = history_dict['acc']\n",
        "val_acc = history_dict['val_acc']\n",
        "\n",
        "plt.plot(epochs, acc, 'bo', label='Training acc')\n",
        "plt.plot(epochs, val_acc, 'b', label='Validation acc')\n",
        "plt.title('Training and validation acc')\n",
        "plt.xlabel('Epochs')\n",
        "plt.ylabel('Acc')\n",
        "plt.legend()\n",
        "\n",
        "plt.show()"
      ],
      "execution_count": null,
      "outputs": [
        {
          "output_type": "display_data",
          "data": {
            "image/png": "[encoded data removed]",
            "text/plain": [
              "<Figure size 432x288 with 1 Axes>"
            ]
          },
          "metadata": {
            "needs_background": "light"
          }
        }
      ]
    },
    {
      "cell_type": "markdown",
      "metadata": {
        "id": "3UlZEQuJoq0D"
      },
      "source": [
        "## Predict using test data\n",
        "- close to 1 : positive review\n",
        "- close to 0 : negative review"
      ]
    },
    {
      "cell_type": "code",
      "metadata": {
        "colab": {
          "base_uri": "https://localhost:8080/"
        },
        "id": "s7GM064RoYMc",
        "outputId": "35124da7-35eb-4278-d136-785e59ef7f62"
      },
      "source": [
        "model.predict(x_test)"
      ],
      "execution_count": null,
      "outputs": [
        {
          "output_type": "execute_result",
          "data": {
            "text/plain": [
              "array([[0.00255269],\n",
              "       [1.        ],\n",
              "       [0.98770297],\n",
              "       ...,\n",
              "       [0.00405589],\n",
              "       [0.01509225],\n",
              "       [0.97757816]], dtype=float32)"
            ]
          },
          "metadata": {},
          "execution_count": 33
        }
      ]
    },
    {
      "cell_type": "markdown",
      "metadata": {
        "id": "xHUCMWwXe9v7"
      },
      "source": [
        "## Improvements\n",
        "\n",
        "- 3개의 은닉층 사용\n",
        "- 은닉 유닛 수 감소, 증가(8개, 32개, 64개)\n",
        "- binary_crossentropy 대신 mse 손실함수 사용\n",
        "- relu 대신 tanh 활성화 함수 사용\n",
        "- optimizer로 rmsprop 대신 adam 사용\n",
        "- Early stopping"
      ]
    },
    {
      "cell_type": "markdown",
      "metadata": {
        "id": "qqHZRLjokEgF"
      },
      "source": [
        "## Original Model"
      ]
    },
    {
      "cell_type": "code",
      "metadata": {
        "colab": {
          "base_uri": "https://localhost:8080/"
        },
        "id": "mWlXhsBPkGk0",
        "outputId": "ac7c7af2-03e0-4c37-f6c1-fba5daaae0e1"
      },
      "source": [
        "model = models.Sequential()\n",
        "model.add(layers.Dense(16, activation='relu', input_shape=(10000,)))\n",
        "model.add(layers.Dense(16, activation='relu'))\n",
        "model.add(layers.Dense(1, activation='sigmoid'))\n",
        "model.compile(optimizer='rmsprop', loss='binary_crossentropy', metrics=['acc'])\n",
        "model.fit(partial_x_train, partial_y_train, epochs=20, batch_size=512, validation_data=(x_val, y_val))\n",
        "result0 = model.evaluate(x_test, y_test)"
      ],
      "execution_count": null,
      "outputs": [
        {
          "output_type": "stream",
          "name": "stdout",
          "text": [
            "Epoch 1/20\n",
            "30/30 [==============================] - 2s 42ms/step - loss: 0.5098 - acc: 0.7871 - val_loss: 0.3780 - val_acc: 0.8725\n",
            "Epoch 2/20\n",
            "30/30 [==============================] - 1s 34ms/step - loss: 0.3001 - acc: 0.9026 - val_loss: 0.3004 - val_acc: 0.8876\n",
            "Epoch 3/20\n",
            "30/30 [==============================] - 1s 34ms/step - loss: 0.2163 - acc: 0.9287 - val_loss: 0.2994 - val_acc: 0.8776\n",
            "Epoch 4/20\n",
            "30/30 [==============================] - 1s 34ms/step - loss: 0.1721 - acc: 0.9432 - val_loss: 0.2819 - val_acc: 0.8872\n",
            "Epoch 5/20\n",
            "30/30 [==============================] - 1s 34ms/step - loss: 0.1385 - acc: 0.9567 - val_loss: 0.2915 - val_acc: 0.8847\n",
            "Epoch 6/20\n",
            "30/30 [==============================] - 1s 33ms/step - loss: 0.1139 - acc: 0.9649 - val_loss: 0.3115 - val_acc: 0.8806\n",
            "Epoch 7/20\n",
            "30/30 [==============================] - 1s 34ms/step - loss: 0.0948 - acc: 0.9712 - val_loss: 0.3187 - val_acc: 0.8826\n",
            "Epoch 8/20\n",
            "30/30 [==============================] - 1s 34ms/step - loss: 0.0754 - acc: 0.9789 - val_loss: 0.3392 - val_acc: 0.8804\n",
            "Epoch 9/20\n",
            "30/30 [==============================] - 1s 34ms/step - loss: 0.0622 - acc: 0.9848 - val_loss: 0.3642 - val_acc: 0.8788\n",
            "Epoch 10/20\n",
            "30/30 [==============================] - 1s 34ms/step - loss: 0.0545 - acc: 0.9849 - val_loss: 0.3893 - val_acc: 0.8778\n",
            "Epoch 11/20\n",
            "30/30 [==============================] - 1s 34ms/step - loss: 0.0414 - acc: 0.9895 - val_loss: 0.4223 - val_acc: 0.8775\n",
            "Epoch 12/20\n",
            "30/30 [==============================] - 1s 33ms/step - loss: 0.0345 - acc: 0.9920 - val_loss: 0.5304 - val_acc: 0.8588\n",
            "Epoch 13/20\n",
            "30/30 [==============================] - 1s 34ms/step - loss: 0.0264 - acc: 0.9947 - val_loss: 0.5019 - val_acc: 0.8690\n",
            "Epoch 14/20\n",
            "30/30 [==============================] - 1s 33ms/step - loss: 0.0208 - acc: 0.9969 - val_loss: 0.5093 - val_acc: 0.8716\n",
            "Epoch 15/20\n",
            "30/30 [==============================] - 1s 34ms/step - loss: 0.0208 - acc: 0.9953 - val_loss: 0.5423 - val_acc: 0.8694\n",
            "Epoch 16/20\n",
            "30/30 [==============================] - 1s 34ms/step - loss: 0.0105 - acc: 0.9995 - val_loss: 0.5783 - val_acc: 0.8678\n",
            "Epoch 17/20\n",
            "30/30 [==============================] - 1s 34ms/step - loss: 0.0117 - acc: 0.9987 - val_loss: 0.6089 - val_acc: 0.8684\n",
            "Epoch 18/20\n",
            "30/30 [==============================] - 1s 34ms/step - loss: 0.0136 - acc: 0.9969 - val_loss: 0.6477 - val_acc: 0.8649\n",
            "Epoch 19/20\n",
            "30/30 [==============================] - 1s 34ms/step - loss: 0.0044 - acc: 0.9999 - val_loss: 0.6730 - val_acc: 0.8654\n",
            "Epoch 20/20\n",
            "30/30 [==============================] - 1s 34ms/step - loss: 0.0099 - acc: 0.9979 - val_loss: 0.7114 - val_acc: 0.8640\n",
            "782/782 [==============================] - 2s 2ms/step - loss: 0.7916 - acc: 0.8493\n"
          ]
        }
      ]
    },
    {
      "cell_type": "markdown",
      "metadata": {
        "id": "f2_QVGXieqQg"
      },
      "source": [
        "## Improvements1 - Using 3 hidden layers"
      ]
    },
    {
      "cell_type": "code",
      "metadata": {
        "colab": {
          "base_uri": "https://localhost:8080/"
        },
        "id": "a76dHPcLezDv",
        "outputId": "028cf455-d049-4d83-ce53-eac188b52a3b"
      },
      "source": [
        "model = models.Sequential()\n",
        "model.add(layers.Dense(16, activation='relu', input_shape=(10000,)))\n",
        "model.add(layers.Dense(16, activation='relu'))\n",
        "model.add(layers.Dense(16, activation='relu'))  # added 1 hidden layer\n",
        "model.add(layers.Dense(1, activation='sigmoid'))\n",
        "model.compile(optimizer='rmsprop', loss='binary_crossentropy', metrics=['acc'])\n",
        "model.fit(partial_x_train, partial_y_train, epochs=20, batch_size=512, validation_data=(x_val, y_val))\n",
        "result1 = model.evaluate(x_test, y_test)"
      ],
      "execution_count": null,
      "outputs": [
        {
          "output_type": "stream",
          "name": "stdout",
          "text": [
            "Epoch 1/20\n",
            "30/30 [==============================] - 2s 44ms/step - loss: 0.5524 - acc: 0.7708 - val_loss: 0.4188 - val_acc: 0.8589\n",
            "Epoch 2/20\n",
            "30/30 [==============================] - 1s 35ms/step - loss: 0.3248 - acc: 0.8959 - val_loss: 0.3089 - val_acc: 0.8876\n",
            "Epoch 3/20\n",
            "30/30 [==============================] - 1s 35ms/step - loss: 0.2278 - acc: 0.9265 - val_loss: 0.2781 - val_acc: 0.8931\n",
            "Epoch 4/20\n",
            "30/30 [==============================] - 1s 36ms/step - loss: 0.1771 - acc: 0.9392 - val_loss: 0.3094 - val_acc: 0.8761\n",
            "Epoch 5/20\n",
            "30/30 [==============================] - 1s 35ms/step - loss: 0.1332 - acc: 0.9587 - val_loss: 0.3045 - val_acc: 0.8837\n",
            "Epoch 6/20\n",
            "30/30 [==============================] - 1s 35ms/step - loss: 0.1084 - acc: 0.9659 - val_loss: 0.3021 - val_acc: 0.8865\n",
            "Epoch 7/20\n",
            "30/30 [==============================] - 1s 35ms/step - loss: 0.0875 - acc: 0.9746 - val_loss: 0.3315 - val_acc: 0.8801\n",
            "Epoch 8/20\n",
            "30/30 [==============================] - 1s 35ms/step - loss: 0.0629 - acc: 0.9852 - val_loss: 0.4269 - val_acc: 0.8648\n",
            "Epoch 9/20\n",
            "30/30 [==============================] - 1s 35ms/step - loss: 0.0528 - acc: 0.9866 - val_loss: 0.3950 - val_acc: 0.8764\n",
            "Epoch 10/20\n",
            "30/30 [==============================] - 1s 36ms/step - loss: 0.0388 - acc: 0.9907 - val_loss: 0.4376 - val_acc: 0.8718\n",
            "Epoch 11/20\n",
            "30/30 [==============================] - 1s 36ms/step - loss: 0.0347 - acc: 0.9918 - val_loss: 0.4413 - val_acc: 0.8730\n",
            "Epoch 12/20\n",
            "30/30 [==============================] - 1s 35ms/step - loss: 0.0200 - acc: 0.9970 - val_loss: 0.4770 - val_acc: 0.8726\n",
            "Epoch 13/20\n",
            "30/30 [==============================] - 1s 36ms/step - loss: 0.0152 - acc: 0.9983 - val_loss: 0.5351 - val_acc: 0.8687\n",
            "Epoch 14/20\n",
            "30/30 [==============================] - 1s 35ms/step - loss: 0.0167 - acc: 0.9971 - val_loss: 0.5453 - val_acc: 0.8731\n",
            "Epoch 15/20\n",
            "30/30 [==============================] - 1s 36ms/step - loss: 0.0058 - acc: 0.9997 - val_loss: 0.5850 - val_acc: 0.8728\n",
            "Epoch 16/20\n",
            "30/30 [==============================] - 1s 36ms/step - loss: 0.0119 - acc: 0.9971 - val_loss: 0.6193 - val_acc: 0.8710\n",
            "Epoch 17/20\n",
            "30/30 [==============================] - 1s 36ms/step - loss: 0.0029 - acc: 0.9999 - val_loss: 0.6604 - val_acc: 0.8702\n",
            "Epoch 18/20\n",
            "30/30 [==============================] - 1s 35ms/step - loss: 0.0081 - acc: 0.9969 - val_loss: 0.7046 - val_acc: 0.8706\n",
            "Epoch 19/20\n",
            "30/30 [==============================] - 1s 35ms/step - loss: 0.0014 - acc: 0.9999 - val_loss: 0.7364 - val_acc: 0.8680\n",
            "Epoch 20/20\n",
            "30/30 [==============================] - 1s 35ms/step - loss: 0.0011 - acc: 0.9999 - val_loss: 0.8170 - val_acc: 0.8659\n",
            "782/782 [==============================] - 1s 2ms/step - loss: 0.9212 - acc: 0.8446\n"
          ]
        }
      ]
    },
    {
      "cell_type": "markdown",
      "metadata": {
        "id": "N1fA380bhBXz"
      },
      "source": [
        "## Improvements2 - Increasing the num of hidden units to 32"
      ]
    },
    {
      "cell_type": "code",
      "metadata": {
        "colab": {
          "base_uri": "https://localhost:8080/"
        },
        "id": "xRsAfYcXgDk2",
        "outputId": "489a67dc-7f56-4944-b167-4f75869a16c8"
      },
      "source": [
        "model = models.Sequential()\n",
        "model.add(layers.Dense(32, activation='relu', input_shape=(10000,)))  # hidden unit 16 -> 32\n",
        "model.add(layers.Dense(32, activation='relu'))  # hidden unit 16 -> 32\n",
        "model.add(layers.Dense(1, activation='sigmoid'))\n",
        "model.compile(optimizer='rmsprop', loss='binary_crossentropy', metrics=['acc'])\n",
        "model.fit(partial_x_train, partial_y_train, epochs=20, batch_size=512, validation_data=(x_val, y_val))\n",
        "result2 = model.evaluate(x_test, y_test)"
      ],
      "execution_count": null,
      "outputs": [
        {
          "output_type": "stream",
          "name": "stdout",
          "text": [
            "Epoch 1/20\n",
            "30/30 [==============================] - 2s 52ms/step - loss: 0.4899 - acc: 0.7899 - val_loss: 0.3491 - val_acc: 0.8781\n",
            "Epoch 2/20\n",
            "30/30 [==============================] - 1s 42ms/step - loss: 0.2751 - acc: 0.9054 - val_loss: 0.2861 - val_acc: 0.8915\n",
            "Epoch 3/20\n",
            "30/30 [==============================] - 1s 42ms/step - loss: 0.1997 - acc: 0.9321 - val_loss: 0.2724 - val_acc: 0.8907\n",
            "Epoch 4/20\n",
            "30/30 [==============================] - 1s 41ms/step - loss: 0.1551 - acc: 0.9479 - val_loss: 0.2856 - val_acc: 0.8873\n",
            "Epoch 5/20\n",
            "30/30 [==============================] - 1s 41ms/step - loss: 0.1277 - acc: 0.9565 - val_loss: 0.3022 - val_acc: 0.8863\n",
            "Epoch 6/20\n",
            "30/30 [==============================] - 1s 42ms/step - loss: 0.1024 - acc: 0.9667 - val_loss: 0.3281 - val_acc: 0.8772\n",
            "Epoch 7/20\n",
            "30/30 [==============================] - 1s 41ms/step - loss: 0.0808 - acc: 0.9750 - val_loss: 0.3450 - val_acc: 0.8819\n",
            "Epoch 8/20\n",
            "30/30 [==============================] - 1s 41ms/step - loss: 0.0712 - acc: 0.9780 - val_loss: 0.3713 - val_acc: 0.8800\n",
            "Epoch 9/20\n",
            "30/30 [==============================] - 1s 41ms/step - loss: 0.0501 - acc: 0.9863 - val_loss: 0.4048 - val_acc: 0.8754\n",
            "Epoch 10/20\n",
            "30/30 [==============================] - 1s 42ms/step - loss: 0.0454 - acc: 0.9869 - val_loss: 0.4377 - val_acc: 0.8762\n",
            "Epoch 11/20\n",
            "30/30 [==============================] - 1s 42ms/step - loss: 0.0355 - acc: 0.9902 - val_loss: 0.4722 - val_acc: 0.8749\n",
            "Epoch 12/20\n",
            "30/30 [==============================] - 1s 42ms/step - loss: 0.0223 - acc: 0.9956 - val_loss: 0.7193 - val_acc: 0.8352\n",
            "Epoch 13/20\n",
            "30/30 [==============================] - 1s 41ms/step - loss: 0.0161 - acc: 0.9973 - val_loss: 0.5512 - val_acc: 0.8709\n",
            "Epoch 14/20\n",
            "30/30 [==============================] - 1s 41ms/step - loss: 0.0187 - acc: 0.9949 - val_loss: 0.5750 - val_acc: 0.8702\n",
            "Epoch 15/20\n",
            "30/30 [==============================] - 1s 43ms/step - loss: 0.0187 - acc: 0.9949 - val_loss: 0.6137 - val_acc: 0.8682\n",
            "Epoch 16/20\n",
            "30/30 [==============================] - 1s 43ms/step - loss: 0.0056 - acc: 0.9997 - val_loss: 0.6529 - val_acc: 0.8665\n",
            "Epoch 17/20\n",
            "30/30 [==============================] - 1s 42ms/step - loss: 0.0133 - acc: 0.9962 - val_loss: 0.6811 - val_acc: 0.8676\n",
            "Epoch 18/20\n",
            "30/30 [==============================] - 1s 43ms/step - loss: 0.0032 - acc: 0.9999 - val_loss: 0.7542 - val_acc: 0.8647\n",
            "Epoch 19/20\n",
            "30/30 [==============================] - 1s 43ms/step - loss: 0.0146 - acc: 0.9959 - val_loss: 0.7718 - val_acc: 0.8668\n",
            "Epoch 20/20\n",
            "30/30 [==============================] - 1s 42ms/step - loss: 0.0017 - acc: 0.9999 - val_loss: 0.7955 - val_acc: 0.8653\n",
            "782/782 [==============================] - 2s 2ms/step - loss: 0.8707 - acc: 0.8472\n"
          ]
        }
      ]
    },
    {
      "cell_type": "markdown",
      "metadata": {
        "id": "oYwcALbdhm0b"
      },
      "source": [
        "## Improvements3 - Increaseing the num of hidden units to 64"
      ]
    },
    {
      "cell_type": "code",
      "metadata": {
        "colab": {
          "base_uri": "https://localhost:8080/"
        },
        "id": "OhBKS41zhZjA",
        "outputId": "ae4b3bbc-d312-4de4-dd0e-6768bb9e2b9a"
      },
      "source": [
        "model = models.Sequential()\n",
        "model.add(layers.Dense(64, activation='relu', input_shape=(10000,)))  # hidden unit 16 -> 64\n",
        "model.add(layers.Dense(64, activation='relu'))  # hidden unit 16 -> 64\n",
        "model.add(layers.Dense(1, activation='sigmoid'))\n",
        "model.compile(optimizer='rmsprop', loss='binary_crossentropy', metrics=['acc'])\n",
        "model.fit(partial_x_train, partial_y_train, epochs=20, batch_size=512, validation_data=(x_val, y_val))\n",
        "result3 = model.evaluate(x_test, y_test)"
      ],
      "execution_count": null,
      "outputs": [
        {
          "output_type": "stream",
          "name": "stdout",
          "text": [
            "Epoch 1/20\n",
            "30/30 [==============================] - 3s 66ms/step - loss: 0.4869 - acc: 0.7610 - val_loss: 0.3193 - val_acc: 0.8786\n",
            "Epoch 2/20\n",
            "30/30 [==============================] - 2s 57ms/step - loss: 0.2546 - acc: 0.9042 - val_loss: 0.2863 - val_acc: 0.8856\n",
            "Epoch 3/20\n",
            "30/30 [==============================] - 2s 57ms/step - loss: 0.1881 - acc: 0.9303 - val_loss: 0.3666 - val_acc: 0.8581\n",
            "Epoch 4/20\n",
            "30/30 [==============================] - 2s 57ms/step - loss: 0.1370 - acc: 0.9499 - val_loss: 0.2984 - val_acc: 0.8857\n",
            "Epoch 5/20\n",
            "30/30 [==============================] - 2s 56ms/step - loss: 0.1149 - acc: 0.9601 - val_loss: 0.3159 - val_acc: 0.8834\n",
            "Epoch 6/20\n",
            "30/30 [==============================] - 2s 56ms/step - loss: 0.0803 - acc: 0.9744 - val_loss: 0.3837 - val_acc: 0.8726\n",
            "Epoch 7/20\n",
            "30/30 [==============================] - 2s 57ms/step - loss: 0.0614 - acc: 0.9798 - val_loss: 0.3932 - val_acc: 0.8784\n",
            "Epoch 8/20\n",
            "30/30 [==============================] - 2s 56ms/step - loss: 0.0538 - acc: 0.9823 - val_loss: 0.4152 - val_acc: 0.8806\n",
            "Epoch 9/20\n",
            "30/30 [==============================] - 2s 57ms/step - loss: 0.0511 - acc: 0.9849 - val_loss: 0.4372 - val_acc: 0.8763\n",
            "Epoch 10/20\n",
            "30/30 [==============================] - 2s 56ms/step - loss: 0.0114 - acc: 0.9990 - val_loss: 0.4950 - val_acc: 0.8773\n",
            "Epoch 11/20\n",
            "30/30 [==============================] - 2s 57ms/step - loss: 0.0341 - acc: 0.9901 - val_loss: 0.5222 - val_acc: 0.8760\n",
            "Epoch 12/20\n",
            "30/30 [==============================] - 2s 56ms/step - loss: 0.0046 - acc: 0.9998 - val_loss: 0.5832 - val_acc: 0.8745\n",
            "Epoch 13/20\n",
            "30/30 [==============================] - 2s 57ms/step - loss: 0.0349 - acc: 0.9915 - val_loss: 0.6029 - val_acc: 0.8744\n",
            "Epoch 14/20\n",
            "30/30 [==============================] - 2s 57ms/step - loss: 0.0021 - acc: 0.9999 - val_loss: 0.6464 - val_acc: 0.8753\n",
            "Epoch 15/20\n",
            "30/30 [==============================] - 2s 58ms/step - loss: 0.0014 - acc: 0.9999 - val_loss: 0.7182 - val_acc: 0.8722\n",
            "Epoch 16/20\n",
            "30/30 [==============================] - 2s 57ms/step - loss: 0.0407 - acc: 0.9912 - val_loss: 0.7503 - val_acc: 0.8722\n",
            "Epoch 17/20\n",
            "30/30 [==============================] - 2s 56ms/step - loss: 7.4920e-04 - acc: 0.9999 - val_loss: 0.7682 - val_acc: 0.8738\n",
            "Epoch 18/20\n",
            "30/30 [==============================] - 2s 56ms/step - loss: 4.9232e-04 - acc: 0.9999 - val_loss: 0.8081 - val_acc: 0.8740\n",
            "Epoch 19/20\n",
            "30/30 [==============================] - 2s 56ms/step - loss: 3.1934e-04 - acc: 0.9999 - val_loss: 0.8831 - val_acc: 0.8720\n",
            "Epoch 20/20\n",
            "30/30 [==============================] - 2s 56ms/step - loss: 0.0276 - acc: 0.9925 - val_loss: 1.0126 - val_acc: 0.8622\n",
            "782/782 [==============================] - 2s 3ms/step - loss: 1.0966 - acc: 0.8505\n"
          ]
        }
      ]
    },
    {
      "cell_type": "markdown",
      "metadata": {
        "id": "aqJQEexKiKaR"
      },
      "source": [
        "## Improvements4 - Using mse instead of binary_crossentropy"
      ]
    },
    {
      "cell_type": "code",
      "metadata": {
        "colab": {
          "base_uri": "https://localhost:8080/"
        },
        "id": "zesqwnR9hsva",
        "outputId": "2e1eafec-4e35-4e28-9888-1a2834875278"
      },
      "source": [
        "model = models.Sequential()\n",
        "model.add(layers.Dense(16, activation='relu', input_shape=(10000,)))\n",
        "model.add(layers.Dense(16, activation='relu'))\n",
        "model.add(layers.Dense(1, activation='sigmoid'))\n",
        "model.compile(optimizer='rmsprop', loss='mse', metrics=['acc']) # loss binary_crossentropy -> mse\n",
        "model.fit(partial_x_train, partial_y_train, epochs=20, batch_size=512, validation_data=(x_val, y_val))\n",
        "result4 = model.evaluate(x_test, y_test)"
      ],
      "execution_count": null,
      "outputs": [
        {
          "output_type": "stream",
          "name": "stdout",
          "text": [
            "Epoch 1/20\n",
            "30/30 [==============================] - 2s 43ms/step - loss: 0.1663 - acc: 0.7919 - val_loss: 0.1180 - val_acc: 0.8647\n",
            "Epoch 2/20\n",
            "30/30 [==============================] - 1s 35ms/step - loss: 0.0867 - acc: 0.9080 - val_loss: 0.0895 - val_acc: 0.8891\n",
            "Epoch 3/20\n",
            "30/30 [==============================] - 1s 35ms/step - loss: 0.0636 - acc: 0.9281 - val_loss: 0.0842 - val_acc: 0.8903\n",
            "Epoch 4/20\n",
            "30/30 [==============================] - 1s 35ms/step - loss: 0.0487 - acc: 0.9464 - val_loss: 0.0852 - val_acc: 0.8866\n",
            "Epoch 5/20\n",
            "30/30 [==============================] - 1s 35ms/step - loss: 0.0399 - acc: 0.9579 - val_loss: 0.0839 - val_acc: 0.8861\n",
            "Epoch 6/20\n",
            "30/30 [==============================] - 1s 35ms/step - loss: 0.0312 - acc: 0.9693 - val_loss: 0.0843 - val_acc: 0.8838\n",
            "Epoch 7/20\n",
            "30/30 [==============================] - 1s 35ms/step - loss: 0.0266 - acc: 0.9737 - val_loss: 0.0879 - val_acc: 0.8808\n",
            "Epoch 8/20\n",
            "30/30 [==============================] - 1s 35ms/step - loss: 0.0210 - acc: 0.9821 - val_loss: 0.0886 - val_acc: 0.8803\n",
            "Epoch 9/20\n",
            "30/30 [==============================] - 1s 36ms/step - loss: 0.0172 - acc: 0.9857 - val_loss: 0.0932 - val_acc: 0.8786\n",
            "Epoch 10/20\n",
            "30/30 [==============================] - 1s 35ms/step - loss: 0.0142 - acc: 0.9882 - val_loss: 0.0948 - val_acc: 0.8768\n",
            "Epoch 11/20\n",
            "30/30 [==============================] - 1s 35ms/step - loss: 0.0119 - acc: 0.9903 - val_loss: 0.0960 - val_acc: 0.8761\n",
            "Epoch 12/20\n",
            "30/30 [==============================] - 1s 36ms/step - loss: 0.0104 - acc: 0.9913 - val_loss: 0.0972 - val_acc: 0.8740\n",
            "Epoch 13/20\n",
            "30/30 [==============================] - 1s 35ms/step - loss: 0.0084 - acc: 0.9936 - val_loss: 0.0988 - val_acc: 0.8723\n",
            "Epoch 14/20\n",
            "30/30 [==============================] - 1s 35ms/step - loss: 0.0065 - acc: 0.9944 - val_loss: 0.1021 - val_acc: 0.8706\n",
            "Epoch 15/20\n",
            "30/30 [==============================] - 1s 35ms/step - loss: 0.0048 - acc: 0.9963 - val_loss: 0.1026 - val_acc: 0.8700\n",
            "Epoch 16/20\n",
            "30/30 [==============================] - 1s 35ms/step - loss: 0.0064 - acc: 0.9938 - val_loss: 0.1032 - val_acc: 0.8694\n",
            "Epoch 17/20\n",
            "30/30 [==============================] - 1s 35ms/step - loss: 0.0036 - acc: 0.9969 - val_loss: 0.1052 - val_acc: 0.8684\n",
            "Epoch 18/20\n",
            "30/30 [==============================] - 1s 35ms/step - loss: 0.0056 - acc: 0.9943 - val_loss: 0.1068 - val_acc: 0.8658\n",
            "Epoch 19/20\n",
            "30/30 [==============================] - 1s 36ms/step - loss: 0.0028 - acc: 0.9975 - val_loss: 0.1085 - val_acc: 0.8653\n",
            "Epoch 20/20\n",
            "30/30 [==============================] - 1s 35ms/step - loss: 0.0044 - acc: 0.9955 - val_loss: 0.1092 - val_acc: 0.8651\n",
            "782/782 [==============================] - 1s 2ms/step - loss: 0.1203 - acc: 0.8534\n"
          ]
        }
      ]
    },
    {
      "cell_type": "markdown",
      "metadata": {
        "id": "Yvm5delgk8VI"
      },
      "source": [
        "## Improvements5 - Using tanh activation function instead of relu"
      ]
    },
    {
      "cell_type": "code",
      "metadata": {
        "colab": {
          "base_uri": "https://localhost:8080/"
        },
        "id": "FccNXgawlAwj",
        "outputId": "f1e937ae-783a-44dd-e00a-bb28079901a8"
      },
      "source": [
        "model = models.Sequential()\n",
        "model.add(layers.Dense(16, activation='tanh', input_shape=(10000,)))  # relu -> tanh\n",
        "model.add(layers.Dense(16, activation='tanh'))  # relu -> tanh\n",
        "model.add(layers.Dense(1, activation='sigmoid'))\n",
        "model.compile(optimizer='rmsprop', loss='binary_crossentropy', metrics=['acc'])\n",
        "model.fit(partial_x_train, partial_y_train, epochs=20, batch_size=512, validation_data=(x_val, y_val))\n",
        "result5 = model.evaluate(x_test, y_test)"
      ],
      "execution_count": null,
      "outputs": [
        {
          "output_type": "stream",
          "name": "stdout",
          "text": [
            "Epoch 1/20\n",
            "30/30 [==============================] - 3s 68ms/step - loss: 0.4702 - acc: 0.7957 - val_loss: 0.3540 - val_acc: 0.8660\n",
            "Epoch 2/20\n",
            "30/30 [==============================] - 1s 37ms/step - loss: 0.2657 - acc: 0.9089 - val_loss: 0.2834 - val_acc: 0.8871\n",
            "Epoch 3/20\n",
            "30/30 [==============================] - 1s 36ms/step - loss: 0.1894 - acc: 0.9350 - val_loss: 0.2909 - val_acc: 0.8809\n",
            "Epoch 4/20\n",
            "30/30 [==============================] - 1s 37ms/step - loss: 0.1449 - acc: 0.9497 - val_loss: 0.2828 - val_acc: 0.8855\n",
            "Epoch 5/20\n",
            "30/30 [==============================] - 1s 35ms/step - loss: 0.1120 - acc: 0.9639 - val_loss: 0.3081 - val_acc: 0.8823\n",
            "Epoch 6/20\n",
            "30/30 [==============================] - 1s 36ms/step - loss: 0.0872 - acc: 0.9716 - val_loss: 0.3710 - val_acc: 0.8711\n",
            "Epoch 7/20\n",
            "30/30 [==============================] - 1s 35ms/step - loss: 0.0637 - acc: 0.9803 - val_loss: 0.3907 - val_acc: 0.8785\n",
            "Epoch 8/20\n",
            "30/30 [==============================] - 1s 36ms/step - loss: 0.0512 - acc: 0.9857 - val_loss: 0.4893 - val_acc: 0.8615\n",
            "Epoch 9/20\n",
            "30/30 [==============================] - 1s 36ms/step - loss: 0.0473 - acc: 0.9854 - val_loss: 0.4767 - val_acc: 0.8655\n",
            "Epoch 10/20\n",
            "30/30 [==============================] - 1s 35ms/step - loss: 0.0425 - acc: 0.9873 - val_loss: 0.4999 - val_acc: 0.8691\n",
            "Epoch 11/20\n",
            "30/30 [==============================] - 1s 49ms/step - loss: 0.0163 - acc: 0.9972 - val_loss: 0.6290 - val_acc: 0.8470\n",
            "Epoch 12/20\n",
            "30/30 [==============================] - 1s 35ms/step - loss: 0.0249 - acc: 0.9927 - val_loss: 0.5751 - val_acc: 0.8649\n",
            "Epoch 13/20\n",
            "30/30 [==============================] - 1s 37ms/step - loss: 0.0222 - acc: 0.9938 - val_loss: 0.6109 - val_acc: 0.8658\n",
            "Epoch 14/20\n",
            "30/30 [==============================] - 1s 35ms/step - loss: 0.0053 - acc: 0.9997 - val_loss: 0.6494 - val_acc: 0.8648\n",
            "Epoch 15/20\n",
            "30/30 [==============================] - 1s 35ms/step - loss: 0.0185 - acc: 0.9941 - val_loss: 0.6816 - val_acc: 0.8633\n",
            "Epoch 16/20\n",
            "30/30 [==============================] - 1s 36ms/step - loss: 0.0022 - acc: 0.9998 - val_loss: 0.7156 - val_acc: 0.8619\n",
            "Epoch 17/20\n",
            "30/30 [==============================] - 1s 35ms/step - loss: 0.0230 - acc: 0.9937 - val_loss: 0.7533 - val_acc: 0.8623\n",
            "Epoch 18/20\n",
            "30/30 [==============================] - 1s 39ms/step - loss: 0.0011 - acc: 0.9999 - val_loss: 0.7680 - val_acc: 0.8609\n",
            "Epoch 19/20\n",
            "30/30 [==============================] - 1s 36ms/step - loss: 7.4866e-04 - acc: 0.9999 - val_loss: 0.8048 - val_acc: 0.8613\n",
            "Epoch 20/20\n",
            "30/30 [==============================] - 1s 37ms/step - loss: 0.0255 - acc: 0.9937 - val_loss: 0.8562 - val_acc: 0.8597\n",
            "782/782 [==============================] - 2s 2ms/step - loss: 0.9636 - acc: 0.8418\n"
          ]
        }
      ]
    },
    {
      "cell_type": "markdown",
      "metadata": {
        "id": "fkEfKFYfl6sc"
      },
      "source": [
        "## Improvements6 - Using adam optimizer instead of rmsprop"
      ]
    },
    {
      "cell_type": "code",
      "metadata": {
        "colab": {
          "base_uri": "https://localhost:8080/"
        },
        "id": "pydQEEeRlKUV",
        "outputId": "feeb66dd-7f74-453d-9594-ad9f0361e731"
      },
      "source": [
        "model = models.Sequential()\n",
        "model.add(layers.Dense(16, activation='relu', input_shape=(10000,)))\n",
        "model.add(layers.Dense(16, activation='relu'))\n",
        "model.add(layers.Dense(1, activation='sigmoid'))\n",
        "model.compile(optimizer='adam', loss='binary_crossentropy', metrics=['acc'])  # optimizer rmsprop -> adam\n",
        "model.fit(partial_x_train, partial_y_train, epochs=20, batch_size=512, validation_data=(x_val, y_val))\n",
        "result6 = model.evaluate(x_test, y_test)"
      ],
      "execution_count": null,
      "outputs": [
        {
          "output_type": "stream",
          "name": "stdout",
          "text": [
            "Epoch 1/20\n",
            "30/30 [==============================] - 2s 47ms/step - loss: 0.6108 - acc: 0.7499 - val_loss: 0.4909 - val_acc: 0.8509\n",
            "Epoch 2/20\n",
            "30/30 [==============================] - 1s 35ms/step - loss: 0.3857 - acc: 0.8899 - val_loss: 0.3411 - val_acc: 0.8797\n",
            "Epoch 3/20\n",
            "30/30 [==============================] - 1s 35ms/step - loss: 0.2547 - acc: 0.9203 - val_loss: 0.2868 - val_acc: 0.8911\n",
            "Epoch 4/20\n",
            "30/30 [==============================] - 1s 35ms/step - loss: 0.1875 - acc: 0.9401 - val_loss: 0.2755 - val_acc: 0.8904\n",
            "Epoch 5/20\n",
            "30/30 [==============================] - 1s 35ms/step - loss: 0.1437 - acc: 0.9562 - val_loss: 0.2805 - val_acc: 0.8871\n",
            "Epoch 6/20\n",
            "30/30 [==============================] - 1s 34ms/step - loss: 0.1122 - acc: 0.9691 - val_loss: 0.2947 - val_acc: 0.8857\n",
            "Epoch 7/20\n",
            "30/30 [==============================] - 1s 35ms/step - loss: 0.0878 - acc: 0.9781 - val_loss: 0.3142 - val_acc: 0.8809\n",
            "Epoch 8/20\n",
            "30/30 [==============================] - 1s 35ms/step - loss: 0.0683 - acc: 0.9855 - val_loss: 0.3385 - val_acc: 0.8819\n",
            "Epoch 9/20\n",
            "30/30 [==============================] - 1s 35ms/step - loss: 0.0526 - acc: 0.9905 - val_loss: 0.3655 - val_acc: 0.8799\n",
            "Epoch 10/20\n",
            "30/30 [==============================] - 1s 35ms/step - loss: 0.0408 - acc: 0.9943 - val_loss: 0.3919 - val_acc: 0.8767\n",
            "Epoch 11/20\n",
            "30/30 [==============================] - 1s 35ms/step - loss: 0.0311 - acc: 0.9963 - val_loss: 0.4197 - val_acc: 0.8773\n",
            "Epoch 12/20\n",
            "30/30 [==============================] - 1s 35ms/step - loss: 0.0242 - acc: 0.9978 - val_loss: 0.4469 - val_acc: 0.8751\n",
            "Epoch 13/20\n",
            "30/30 [==============================] - 1s 35ms/step - loss: 0.0185 - acc: 0.9993 - val_loss: 0.4740 - val_acc: 0.8743\n",
            "Epoch 14/20\n",
            "30/30 [==============================] - 1s 35ms/step - loss: 0.0146 - acc: 0.9996 - val_loss: 0.4991 - val_acc: 0.8722\n",
            "Epoch 15/20\n",
            "30/30 [==============================] - 1s 35ms/step - loss: 0.0115 - acc: 0.9997 - val_loss: 0.5263 - val_acc: 0.8702\n",
            "Epoch 16/20\n",
            "30/30 [==============================] - 1s 35ms/step - loss: 0.0093 - acc: 0.9999 - val_loss: 0.5486 - val_acc: 0.8700\n",
            "Epoch 17/20\n",
            "30/30 [==============================] - 1s 35ms/step - loss: 0.0078 - acc: 0.9999 - val_loss: 0.5734 - val_acc: 0.8681\n",
            "Epoch 18/20\n",
            "30/30 [==============================] - 1s 35ms/step - loss: 0.0066 - acc: 0.9999 - val_loss: 0.5927 - val_acc: 0.8683\n",
            "Epoch 19/20\n",
            "30/30 [==============================] - 1s 35ms/step - loss: 0.0055 - acc: 0.9999 - val_loss: 0.6091 - val_acc: 0.8686\n",
            "Epoch 20/20\n",
            "30/30 [==============================] - 1s 35ms/step - loss: 0.0047 - acc: 0.9999 - val_loss: 0.6282 - val_acc: 0.8681\n",
            "782/782 [==============================] - 2s 2ms/step - loss: 0.6761 - acc: 0.8563\n"
          ]
        }
      ]
    },
    {
      "cell_type": "markdown",
      "metadata": {
        "id": "ISU_cg5Qncv6"
      },
      "source": [
        "## Improvements7 - Early stopping\n",
        "\n"
      ]
    },
    {
      "cell_type": "code",
      "metadata": {
        "colab": {
          "base_uri": "https://localhost:8080/"
        },
        "id": "3OKEagFLnd15",
        "outputId": "875cde3f-5664-4bb0-cc04-68d592f44bcd"
      },
      "source": [
        "model = models.Sequential()\n",
        "model.add(layers.Dense(16, activation='relu', input_shape=(10000,)))\n",
        "model.add(layers.Dense(16, activation='relu'))\n",
        "model.add(layers.Dense(1, activation='sigmoid'))\n",
        "model.compile(optimizer='rmsprop', loss='binary_crossentropy', metrics=['acc'])\n",
        "model.fit(x_train, y_train, epochs=4, batch_size=512) # epochs 20 -> 4\n",
        "result7 = model.evaluate(x_test, y_test)"
      ],
      "execution_count": null,
      "outputs": [
        {
          "output_type": "stream",
          "name": "stdout",
          "text": [
            "Epoch 1/4\n",
            "49/49 [==============================] - 2s 29ms/step - loss: 0.4878 - acc: 0.8073\n",
            "Epoch 2/4\n",
            "49/49 [==============================] - 1s 29ms/step - loss: 0.2766 - acc: 0.9067\n",
            "Epoch 3/4\n",
            "49/49 [==============================] - 1s 28ms/step - loss: 0.2097 - acc: 0.9246\n",
            "Epoch 4/4\n",
            "49/49 [==============================] - 1s 28ms/step - loss: 0.1725 - acc: 0.9383\n",
            "782/782 [==============================] - 2s 2ms/step - loss: 0.2965 - acc: 0.8814\n"
          ]
        }
      ]
    },
    {
      "cell_type": "markdown",
      "metadata": {
        "id": "7GW-RgHGwXug"
      },
      "source": [
        "## 각 variation별 test accuracy 비교"
      ]
    },
    {
      "cell_type": "code",
      "metadata": {
        "colab": {
          "base_uri": "https://localhost:8080/"
        },
        "id": "XTanyNBPro_Z",
        "outputId": "be90fc3c-27ed-49b9-bd8e-e6169974f7ae"
      },
      "source": [
        "print(\"----------Test acc for various trial----------\")\n",
        "print(\"Original Model : \", result0[1])\n",
        "print(\"Improvements1(hidden layer 2->3) : \", result1[1])\n",
        "print(\"Improvements2(hidden units 16->32) : \", result2[1])\n",
        "print(\"Improvements3(hidden units 16->64) : \", result3[1])\n",
        "print(\"Improvements4(loss func : binary_crossentropy->mse) : \", result4[1])\n",
        "print(\"Improvements5(activation func : relu->tanh) : \", result5[1])\n",
        "print(\"Improvements6(optimizer : rmsprop->adam) : \", result6[1])\n",
        "print(\"Improvements7(early stopping) : \", result7[1])"
      ],
      "execution_count": null,
      "outputs": [
        {
          "output_type": "stream",
          "name": "stdout",
          "text": [
            "----------Test acc for various trial----------\n",
            "Original Model :  0.8492799997329712\n",
            "Improvements1(hidden layer 2->3) :  0.8445600271224976\n",
            "Improvements2(hidden units 16->32) :  0.8471599817276001\n",
            "Improvements3(hidden units 16->64) :  0.8504800200462341\n",
            "Improvements4(loss func : binary_crossentropy->mse) :  0.8533599972724915\n",
            "Improvements5(activation func : relu->tanh) :  0.8417999744415283\n",
            "Improvements6(optimizer : rmsprop->adam) :  0.8563200235366821\n",
            "Improvements7(early stopping) :  0.8814399838447571\n"
          ]
        }
      ]
    },
    {
      "cell_type": "markdown",
      "metadata": {
        "id": "Di4n33uSwd5G"
      },
      "source": [
        "- 그래프에서 y축은 test accuracy, x축의 0,1,2,...7은 각각 original, improvements1, improvements2...를 나타냄"
      ]
    },
    {
      "cell_type": "code",
      "metadata": {
        "colab": {
          "base_uri": "https://localhost:8080/",
          "height": 283
        },
        "id": "dz2kJwm1sXlu",
        "outputId": "8572eea7-07b4-4b7d-f519-ba8fe3646bf7"
      },
      "source": [
        "trial = ['0', '1', '2', '3', '4', '5', '6', '7']\n",
        "values = [result0[1], result1[1], result2[1], result3[1], result4[1], result5[1], result6[1], result7[1]]\n",
        "\n",
        "plt.bar(trial, values)\n",
        "plt.xlabel('Improvements #, 0 is original')\n",
        "plt.ylabel('Test accuracy')\n",
        "plt.ylim([0.8,0.9]) # y축 [최소,최대] 스케일 조정\n",
        "\n",
        "plt.show()"
      ],
      "execution_count": null,
      "outputs": [
        {
          "output_type": "display_data",
          "data": {
            "image/png": "[encoded data removed]",
            "text/plain": [
              "<Figure size 432x288 with 1 Axes>"
            ]
          },
          "metadata": {
            "needs_background": "light"
          }
        }
      ]
    },
    {
      "cell_type": "markdown",
      "metadata": {
        "id": "UEcP0Bzbv0-b"
      },
      "source": [
        "## Conclusion\n",
        "- 은닉층을 2개에서 3개로 증가시켰을 때 test acc의 차이는 0.004 정도로 큰 변화가 없었다.\n",
        "- 은닉 유닛을 증가시키면 아주 약간의 test accuracy가 증가하였지만 역시 큰 변화는 없었다.\n",
        "- loss function을 binary_crossentropy에서 mse로 변화시키면 0.005 정도의 test acc 증가가 있었다.\n",
        "- 활성화 함수를 relu에서 tanh으로 변화시키면 약 0.008 정도의 test acc 감소가 있었다.\n",
        "- optimizer를 rmsprop에서 adam으로 바꾸었더니 0.007의 test acc 증가가 있었다.\n",
        "- early stopping을 사용하여 학습을 조기종료 시켰더니 0.04의 큰 test acc 증가가 있었다.\n",
        "- 단순히 hidden layer나 hidden unit의 갯수 조정보다도 해결하고자 하는 문제에 **적절한 activation function과 optimizer의 선택**이 결과에 더 크게 영향을 미친다. \n",
        "- **Early stopping은 overfitting을 방지하여 test acc를 증가시킬 수 있는 굉장히 효과적인 방법이다.**\n"
      ]
    },
    {
      "cell_type": "code",
      "metadata": {
        "id": "e38CBRnpuPhU"
      },
      "source": [
        ""
      ],
      "execution_count": null,
      "outputs": []
    }
  ]
}