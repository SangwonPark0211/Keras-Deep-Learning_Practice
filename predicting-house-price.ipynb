{
  "nbformat": 4,
  "nbformat_minor": 0,
  "metadata": {
    "colab": {
      "name": "HW03_20204119_SangwonPark.ipynb",
      "provenance": [],
      "collapsed_sections": []
    },
    "kernelspec": {
      "name": "python3",
      "display_name": "Python 3"
    },
    "language_info": {
      "name": "python"
    },
    "accelerator": "GPU"
  },
  "cells": [
    {
      "cell_type": "markdown",
      "metadata": {
        "id": "u-YWQXto8kDX"
      },
      "source": [
        "# **주택 가격 예측 : 회귀 문제**\n",
        "---\n",
        "- 연속적인 값을 예측하는 회귀(regression) 문제\n",
        "- 1970년대 중반 보스턴 외곽 지역의 범죄율, 지방세율 등의 데이터가 주어졌을 때 주택 가격의 중간 값 예측"
      ]
    },
    {
      "cell_type": "markdown",
      "metadata": {
        "id": "CyDEAbcz748a"
      },
      "source": [
        "##보스턴 주택 가격 데이터셋\n",
        "- 506개의 데이터(404개의 훈련 샘플, 102개의 테스트 샘플)\n",
        "- 입력 데이터의 각 특성(e.g. 범죄율)은 스케일이 서로 다름\n",
        "- 예컨대, 입력 데이터의 1번 특성은 0과 1 사이의 비율을 나타낸다면, 2번 특성은 1과 12사이의 값을 가지는 등\n",
        "- 각 데이터는 13개의 특성 value를 가지고 있음"
      ]
    },
    {
      "cell_type": "code",
      "metadata": {
        "colab": {
          "base_uri": "https://localhost:8080/"
        },
        "id": "eFe2OidV-PGS",
        "outputId": "dbfd12c1-22b2-49d5-da9e-51215adb78eb"
      },
      "source": [
        "from keras.datasets import boston_housing\n",
        "(train_data, train_targets), (test_data, test_targets) = boston_housing.load_data()"
      ],
      "execution_count": 1,
      "outputs": [
        {
          "output_type": "stream",
          "name": "stdout",
          "text": [
            "Downloading data from https://storage.googleapis.com/tensorflow/tf-keras-datasets/boston_housing.npz\n",
            "57344/57026 [==============================] - 0s 0us/step\n",
            "65536/57026 [==================================] - 0s 0us/step\n"
          ]
        }
      ]
    },
    {
      "cell_type": "code",
      "metadata": {
        "colab": {
          "base_uri": "https://localhost:8080/"
        },
        "id": "D0eFpor_-Yu6",
        "outputId": "1fbb78d9-b57c-4607-d97f-55e5f79c2f48"
      },
      "source": [
        "train_data.shape"
      ],
      "execution_count": 2,
      "outputs": [
        {
          "output_type": "execute_result",
          "data": {
            "text/plain": [
              "(404, 13)"
            ]
          },
          "metadata": {},
          "execution_count": 2
        }
      ]
    },
    {
      "cell_type": "code",
      "metadata": {
        "colab": {
          "base_uri": "https://localhost:8080/"
        },
        "id": "IuJtvmtEBA0y",
        "outputId": "e8866833-cae9-492a-b3da-1f47436035a2"
      },
      "source": [
        "test_data.shape"
      ],
      "execution_count": 3,
      "outputs": [
        {
          "output_type": "execute_result",
          "data": {
            "text/plain": [
              "(102, 13)"
            ]
          },
          "metadata": {},
          "execution_count": 3
        }
      ]
    },
    {
      "cell_type": "markdown",
      "metadata": {
        "id": "1cU6f1hpBUvt"
      },
      "source": [
        "타깃은 주택의 중간 가격으로 천다러 단위"
      ]
    },
    {
      "cell_type": "code",
      "metadata": {
        "colab": {
          "base_uri": "https://localhost:8080/"
        },
        "id": "lHlKh4wJBCIM",
        "outputId": "1fdc0196-bb4f-46c4-8b2a-0b67836c7796"
      },
      "source": [
        "print(len(train_targets))\n",
        "print(train_targets)"
      ],
      "execution_count": 4,
      "outputs": [
        {
          "output_type": "stream",
          "name": "stdout",
          "text": [
            "404\n",
            "[15.2 42.3 50.  21.1 17.7 18.5 11.3 15.6 15.6 14.4 12.1 17.9 23.1 19.9\n",
            " 15.7  8.8 50.  22.5 24.1 27.5 10.9 30.8 32.9 24.  18.5 13.3 22.9 34.7\n",
            " 16.6 17.5 22.3 16.1 14.9 23.1 34.9 25.  13.9 13.1 20.4 20.  15.2 24.7\n",
            " 22.2 16.7 12.7 15.6 18.4 21.  30.1 15.1 18.7  9.6 31.5 24.8 19.1 22.\n",
            " 14.5 11.  32.  29.4 20.3 24.4 14.6 19.5 14.1 14.3 15.6 10.5  6.3 19.3\n",
            " 19.3 13.4 36.4 17.8 13.5 16.5  8.3 14.3 16.  13.4 28.6 43.5 20.2 22.\n",
            " 23.  20.7 12.5 48.5 14.6 13.4 23.7 50.  21.7 39.8 38.7 22.2 34.9 22.5\n",
            " 31.1 28.7 46.  41.7 21.  26.6 15.  24.4 13.3 21.2 11.7 21.7 19.4 50.\n",
            " 22.8 19.7 24.7 36.2 14.2 18.9 18.3 20.6 24.6 18.2  8.7 44.  10.4 13.2\n",
            " 21.2 37.  30.7 22.9 20.  19.3 31.7 32.  23.1 18.8 10.9 50.  19.6  5.\n",
            " 14.4 19.8 13.8 19.6 23.9 24.5 25.  19.9 17.2 24.6 13.5 26.6 21.4 11.9\n",
            " 22.6 19.6  8.5 23.7 23.1 22.4 20.5 23.6 18.4 35.2 23.1 27.9 20.6 23.7\n",
            " 28.  13.6 27.1 23.6 20.6 18.2 21.7 17.1  8.4 25.3 13.8 22.2 18.4 20.7\n",
            " 31.6 30.5 20.3  8.8 19.2 19.4 23.1 23.  14.8 48.8 22.6 33.4 21.1 13.6\n",
            " 32.2 13.1 23.4 18.9 23.9 11.8 23.3 22.8 19.6 16.7 13.4 22.2 20.4 21.8\n",
            " 26.4 14.9 24.1 23.8 12.3 29.1 21.  19.5 23.3 23.8 17.8 11.5 21.7 19.9\n",
            " 25.  33.4 28.5 21.4 24.3 27.5 33.1 16.2 23.3 48.3 22.9 22.8 13.1 12.7\n",
            " 22.6 15.  15.3 10.5 24.  18.5 21.7 19.5 33.2 23.2  5.  19.1 12.7 22.3\n",
            " 10.2 13.9 16.3 17.  20.1 29.9 17.2 37.3 45.4 17.8 23.2 29.  22.  18.\n",
            " 17.4 34.6 20.1 25.  15.6 24.8 28.2 21.2 21.4 23.8 31.  26.2 17.4 37.9\n",
            " 17.5 20.   8.3 23.9  8.4 13.8  7.2 11.7 17.1 21.6 50.  16.1 20.4 20.6\n",
            " 21.4 20.6 36.5  8.5 24.8 10.8 21.9 17.3 18.9 36.2 14.9 18.2 33.3 21.8\n",
            " 19.7 31.6 24.8 19.4 22.8  7.5 44.8 16.8 18.7 50.  50.  19.5 20.1 50.\n",
            " 17.2 20.8 19.3 41.3 20.4 20.5 13.8 16.5 23.9 20.6 31.5 23.3 16.8 14.\n",
            " 33.8 36.1 12.8 18.3 18.7 19.1 29.  30.1 50.  50.  22.  11.9 37.6 50.\n",
            " 22.7 20.8 23.5 27.9 50.  19.3 23.9 22.6 15.2 21.7 19.2 43.8 20.3 33.2\n",
            " 19.9 22.5 32.7 22.  17.1 19.  15.  16.1 25.1 23.7 28.7 37.2 22.6 16.4\n",
            " 25.  29.8 22.1 17.4 18.1 30.3 17.5 24.7 12.6 26.5 28.7 13.3 10.4 24.4\n",
            " 23.  20.  17.8  7.  11.8 24.4 13.8 19.4 25.2 19.4 19.4 29.1]\n"
          ]
        }
      ]
    },
    {
      "cell_type": "markdown",
      "metadata": {
        "id": "HurRj_1PBi_I"
      },
      "source": [
        "##데이터 준비\n",
        "- 상이한 스케일을 가진 값을 신경망에 주입하면 문제가 됨\n",
        "- 네트워크가 자동으로 맞추려고 할 순 있지만 이는 학습을 더 어렵게 만듬\n",
        "- 이러한 데이터를 다룰 땐 특성별로 정규화를 해야 함\n",
        "- **입력 데이터의 각 특성에 대해 해당 특성의 평균을 빼고 표준 편차로 나누어 주기**\n",
        "- 이는 특성값의 중앙이 0 근처에 맞춰지고, 표준 편차가 1이 되도록 함.\n",
        "- 넘파이를 사용하면 간단히 구현 가능"
      ]
    },
    {
      "cell_type": "code",
      "metadata": {
        "id": "sEz-0zJdBX8R"
      },
      "source": [
        "mean = train_data.mean(axis=0)\n",
        "train_data -= mean\n",
        "std = train_data.std(axis=0)\n",
        "train_data /= std\n",
        "\n",
        "test_data -= mean\n",
        "test_data /= std"
      ],
      "execution_count": 5,
      "outputs": []
    },
    {
      "cell_type": "markdown",
      "metadata": {
        "id": "1RndWsDVCQyx"
      },
      "source": [
        "- 테스트 데이터를 정규화할 때 사용한 값이 훈련 데이터에서 계산한 값임을 주목!\n",
        "- **머신 러닝 작업에선 절대로 테스트 데이터에서 계산한 어떤 값도 사용해선 안됨.(데이터 정규화 조차도)**"
      ]
    },
    {
      "cell_type": "markdown",
      "metadata": {
        "id": "RjXucnlUCewV"
      },
      "source": [
        "##모델 구성\n",
        "- 샘플의 갯수가 적어 64개의 유닛을 가진 두 개의 은닉층으로 구성\n",
        "- **훈련 데이터가 적을수록 과적합이 쉽게 일어나므로 작은 모델을 사용하는 것이 효율적**"
      ]
    },
    {
      "cell_type": "code",
      "metadata": {
        "id": "jU1M_ETrCbqO"
      },
      "source": [
        "from keras import models, layers\n",
        "\n",
        "def build_model():\n",
        "  # 동일한 모델 여러 번 생성할 것이므로 함수로 만들어 사용\n",
        "  model = models.Sequential()\n",
        "  model.add(layers.Dense(64, activation='relu', input_shape=(train_data.shape[1],)))\n",
        "  model.add(layers.Dense(64, activation='relu'))\n",
        "  model.add(layers.Dense(1))\n",
        "  model.compile(optimizer='rmsprop', loss='mse', metrics=['mae'])\n",
        "  return model"
      ],
      "execution_count": 6,
      "outputs": []
    },
    {
      "cell_type": "markdown",
      "metadata": {
        "id": "dFdzffWsDaQ2"
      },
      "source": [
        "- 이 네트워크의 마지막 층은 하나의 유닛, 활성화 함수 없음\n",
        "- 이는 전형적인 스칼라 회귀를 위한 구성\n",
        "- 여기선 마지막 층이 순수한 선형이므로 네트워크가 어떤 범위의 값이라도 자유롭게 예측하도록 학습됨(sigmoid를 사용하면 0과 1 사이의 값을 예측하는 것과 비교)\n",
        "</br></br>\n",
        "- 이 모델은 **mse** 손실 함수를 사용 : 평균제곱오차(mean squared error)의 약자로 예측과 타깃 사이 거리의 제곱을 측정\n",
        "- 회귀 문제에서 널리 사용되는 손실 함수\n",
        "</br></br>\n",
        "- 훈련 동안 모니터링을 위해 새로운 지표인 **평균절대오차** 측정\n",
        "- 이는 예측과 타깃 사이 거리의 절댓값\n",
        "- 예컨대, 이 예제에서 MAE=0.5면 예측이 평균적으로 500$ 정도 차이가 난다는 의미"
      ]
    },
    {
      "cell_type": "markdown",
      "metadata": {
        "id": "wetL_lM5GBAZ"
      },
      "source": [
        "##K-fold cross validation을 사용한 훈련 검증\n",
        "- **하이퍼 파라미터를 조정하면서 최적값을 찾기 위해** 데이터를 훈련 세트와 검증 세트로 나눔\n",
        "- 데이터가 많지 않아 검증 세트도 매우 작아짐(약 100개)\n",
        "- 결국 검증 세트와 훈련 세트로 어떤 데이터가 선택되었는지에 따라 검증 점수가 크게 달라짐\n",
        "- 이런 경우 모델 검증 결과의 신뢰도가 낮아짐\n",
        "</br></br>\n",
        "- 이런 상황에서 가장 좋은 방법은 **k-fold cross validation**\n",
        "- 데이터를 k개의 폴드(분할)로 나누고(일반적으로 k=4,5) k개의 모델을 각각 만들어 k-1개의 폴드에서 훈련하고 나머지 폴드에서 평가하는 방법\n",
        "- 모델의 검증 점수는 k개의 검증 점수의 평균이 됨"
      ]
    },
    {
      "cell_type": "code",
      "metadata": {
        "colab": {
          "base_uri": "https://localhost:8080/"
        },
        "id": "S0p6up1cDXfB",
        "outputId": "f1fee45d-c423-4fd1-fd8b-230a149bf625"
      },
      "source": [
        "import numpy as np\n",
        "\n",
        "k = 4\n",
        "num_val_samples = len(train_data)//k\n",
        "num_epochs = 100\n",
        "all_scores = []\n",
        "for i in range(k):\n",
        "  print('처리 중인 폴드 #', i)\n",
        "  # 검증 데이터 준비: k번째 분할\n",
        "  val_data = train_data[i*num_val_samples: (i+1)*num_val_samples]\n",
        "  val_targets = train_targets[i*num_val_samples:(i+1)*num_val_samples]\n",
        "  # 훈련 데이터 준비: 다른 분할 전체\n",
        "  partial_train_data = np.concatenate(\n",
        "        [train_data[:i * num_val_samples],\n",
        "         train_data[(i + 1) * num_val_samples:]],\n",
        "        axis=0)\n",
        "  partial_train_targets = np.concatenate(\n",
        "        [train_targets[:i * num_val_samples],\n",
        "         train_targets[(i + 1) * num_val_samples:]],\n",
        "        axis=0)\n",
        "  # 케라스 모델 구성(컴파일 포함)\n",
        "  model = build_model()\n",
        "  # 모델 훈련(verbose=0 옵션은 훈련 과정이 출력되지 않음)\n",
        "  model.fit(partial_train_data, partial_train_targets, epochs=num_epochs, batch_size=1, verbose=0)\n",
        "  # 검증 세트로 모델 평가\n",
        "  val_mse, val_mae = model.evaluate(val_data, val_targets, verbose=0)\n",
        "  all_scores.append(val_mae)"
      ],
      "execution_count": 7,
      "outputs": [
        {
          "output_type": "stream",
          "name": "stdout",
          "text": [
            "처리 중인 폴드 # 0\n",
            "처리 중인 폴드 # 1\n",
            "처리 중인 폴드 # 2\n",
            "처리 중인 폴드 # 3\n"
          ]
        }
      ]
    },
    {
      "cell_type": "code",
      "metadata": {
        "colab": {
          "base_uri": "https://localhost:8080/"
        },
        "id": "wUVr0KxBIMuW",
        "outputId": "63acd858-1783-4726-a055-0a8c5c511c79"
      },
      "source": [
        "all_scores"
      ],
      "execution_count": 8,
      "outputs": [
        {
          "output_type": "execute_result",
          "data": {
            "text/plain": [
              "[2.0828895568847656, 3.0702121257781982, 2.497861385345459, 2.3680670261383057]"
            ]
          },
          "metadata": {},
          "execution_count": 8
        }
      ]
    },
    {
      "cell_type": "code",
      "metadata": {
        "colab": {
          "base_uri": "https://localhost:8080/"
        },
        "id": "jCSKwwqLI4IY",
        "outputId": "cc3b6ed3-f414-4bd7-a576-140c5858335d"
      },
      "source": [
        "np.mean(all_scores)"
      ],
      "execution_count": 9,
      "outputs": [
        {
          "output_type": "execute_result",
          "data": {
            "text/plain": [
              "2.504757523536682"
            ]
          },
          "metadata": {},
          "execution_count": 9
        }
      ]
    },
    {
      "cell_type": "markdown",
      "metadata": {
        "id": "sAaSd9-BI9zl"
      },
      "source": [
        "- 검증 세트가 다르므로 검증 점수가 2.2~2.6으로 변화가 큼\n",
        "- 평균값 2.5가 각 점수보다 신뢰할만함(k-fold cross validation의 핵심)\n",
        "</br></br>\n",
        "- 신경망을 더 오래 500 에폭 동안 훈련해 보자!\n",
        "- 각 에폭마다 모델이 얼마나 개선되는지 기록하기 위해 에폭의 검증 점수를 로그에 저장"
      ]
    },
    {
      "cell_type": "code",
      "metadata": {
        "id": "teyVWMocJoes"
      },
      "source": [
        "from keras import backend as K\n",
        "#메모리 해제, keras가 모든 설정이 초기화된 상태로 다시 시작\n",
        "K.clear_session()"
      ],
      "execution_count": 10,
      "outputs": []
    },
    {
      "cell_type": "code",
      "metadata": {
        "colab": {
          "base_uri": "https://localhost:8080/"
        },
        "id": "WzOt1ox6Jtca",
        "outputId": "c63917b9-3c1f-43c6-9b3e-9424b2468aca"
      },
      "source": [
        "num_epochs = 500\n",
        "all_mae_histories = []\n",
        "for i in range(k):\n",
        "    print('처리중인 폴드 #', i)\n",
        "    # 검증 데이터 준비: k번째 분할\n",
        "    val_data = train_data[i * num_val_samples: (i + 1) * num_val_samples]\n",
        "    val_targets = train_targets[i * num_val_samples: (i + 1) * num_val_samples]\n",
        "\n",
        "    # 훈련 데이터 준비: 다른 분할 전체\n",
        "    partial_train_data = np.concatenate(\n",
        "        [train_data[:i * num_val_samples],\n",
        "         train_data[(i + 1) * num_val_samples:]],\n",
        "        axis=0)\n",
        "    partial_train_targets = np.concatenate(\n",
        "        [train_targets[:i * num_val_samples],\n",
        "         train_targets[(i + 1) * num_val_samples:]],\n",
        "        axis=0)\n",
        "\n",
        "    # 케라스 모델 구성(컴파일 포함)\n",
        "    model = build_model()\n",
        "    # 모델 훈련(verbose=0 이므로 훈련 과정이 출력되지 않습니다)\n",
        "    history = model.fit(partial_train_data, partial_train_targets,\n",
        "                        validation_data=(val_data, val_targets),\n",
        "                        epochs=num_epochs, batch_size=1, verbose=0)\n",
        "    mae_history = history.history['val_mae']  # 책과의 케라스 버전차이로 val_mean_absolute_error -> val_mae\n",
        "    all_mae_histories.append(mae_history)"
      ],
      "execution_count": 11,
      "outputs": [
        {
          "output_type": "stream",
          "name": "stdout",
          "text": [
            "처리중인 폴드 # 0\n",
            "처리중인 폴드 # 1\n",
            "처리중인 폴드 # 2\n",
            "처리중인 폴드 # 3\n"
          ]
        }
      ]
    },
    {
      "cell_type": "code",
      "metadata": {
        "id": "YtWFc8F5J675",
        "colab": {
          "base_uri": "https://localhost:8080/"
        },
        "outputId": "1118a4a3-db49-462e-c1ba-3bde7b1b1e90"
      },
      "source": [
        "print(len(all_mae_histories), len(all_mae_histories[0]))"
      ],
      "execution_count": 12,
      "outputs": [
        {
          "output_type": "stream",
          "name": "stdout",
          "text": [
            "4 500\n"
          ]
        }
      ]
    },
    {
      "cell_type": "markdown",
      "metadata": {
        "id": "z0Vq21e1KiTi"
      },
      "source": [
        "그 다음 모든 폴드에 대해 에폭의 MAE 점수의 평균을 계산"
      ]
    },
    {
      "cell_type": "code",
      "metadata": {
        "id": "GhC3uZrdKlfa"
      },
      "source": [
        "average_mae_history = [np.mean([x[i] for x in all_mae_histories]) for i in range(num_epochs)]"
      ],
      "execution_count": 13,
      "outputs": []
    },
    {
      "cell_type": "markdown",
      "metadata": {
        "id": "zE0GrKT1KufD"
      },
      "source": [
        "그래프로 그려보자"
      ]
    },
    {
      "cell_type": "code",
      "metadata": {
        "id": "0M6SFdk6Kv_2",
        "colab": {
          "base_uri": "https://localhost:8080/",
          "height": 279
        },
        "outputId": "28394ddb-4aa5-4847-d5b2-1d466d41a269"
      },
      "source": [
        "import matplotlib.pyplot as plt\n",
        "\n",
        "plt.plot(range(1, len(average_mae_history)+1), average_mae_history)\n",
        "plt.xlabel('Epochs')\n",
        "plt.ylabel('Validation MAE')\n",
        "plt.show()"
      ],
      "execution_count": 14,
      "outputs": [
        {
          "output_type": "display_data",
          "data": {
            "image/png": "[encoded data removed]",
            "text/plain": [
              "<Figure size 432x288 with 1 Axes>"
            ]
          },
          "metadata": {
            "needs_background": "light"
          }
        }
      ]
    },
    {
      "cell_type": "markdown",
      "metadata": {
        "id": "ZUoAJiXoPZPh"
      },
      "source": [
        "위 그래프는 범위가 크고 변동이 심해 보기가 어려움. 다음과 같이 변형해보자!\n",
        "- 곡선의 다른 부분과 스케일이 많이 다른 첫 10개 데이터를 제외시킴\n",
        "- 부드러운 곡선을 얻기 위해 각 포인트를 이전 포인트의 지수 이동 평균으로 대체"
      ]
    },
    {
      "cell_type": "code",
      "metadata": {
        "id": "LQrn0H-LPYBB",
        "colab": {
          "base_uri": "https://localhost:8080/",
          "height": 279
        },
        "outputId": "d0ab1b67-3380-43b2-dc84-c0b25c189553"
      },
      "source": [
        "def smooth_curve(points, factor=0.9):\n",
        "  smoothed_points = []\n",
        "  for point in points:\n",
        "    if smoothed_points:\n",
        "      previous = smoothed_points[-1]\n",
        "      smoothed_points.append(previous * factor + point * (1 - factor))\n",
        "    else:\n",
        "      smoothed_points.append(point)\n",
        "  return smoothed_points\n",
        "\n",
        "smooth_mae_history = smooth_curve(average_mae_history[10:])\n",
        "\n",
        "plt.plot(range(1, len(smooth_mae_history) + 1), smooth_mae_history)\n",
        "plt.xlabel('Epochs')\n",
        "plt.ylabel('Validation MAE')\n",
        "plt.show()"
      ],
      "execution_count": 15,
      "outputs": [
        {
          "output_type": "display_data",
          "data": {
            "image/png": "[encoded data removed]",
            "text/plain": [
              "<Figure size 432x288 with 1 Axes>"
            ]
          },
          "metadata": {
            "needs_background": "light"
          }
        }
      ]
    },
    {
      "cell_type": "markdown",
      "metadata": {
        "id": "Fn-T27sSP3Tn"
      },
      "source": [
        "위 그래프에서 검증 MAE가 80번째 에폭 이후 줄어드는 것이 멈춤. 즉, 이 지점 이후로 과대적합이 시작됨  \n",
        "모델의 다른 매개변수 튜닝이 끝나면 모든 훈련 데이터를 사용하고 최상의 매개변수로 최종 실전에 투입될 모델을 훈련시키고 테스트 데이터로 성능 확인"
      ]
    },
    {
      "cell_type": "code",
      "metadata": {
        "id": "4bkZF2LqPy30",
        "colab": {
          "base_uri": "https://localhost:8080/"
        },
        "outputId": "2a5fcdb4-be89-4377-a3d6-2d937b245fa3"
      },
      "source": [
        "# 새롭게 컴파일된 모델을 얻음\n",
        "model = build_model()\n",
        "# 전체 데이터로 훈련\n",
        "model.fit(train_data, train_targets, epochs=80, batch_size=16, verbose=0)\n",
        "test_mse_score, test_mae_score = model.evaluate(test_data, test_targets)"
      ],
      "execution_count": 16,
      "outputs": [
        {
          "output_type": "stream",
          "name": "stdout",
          "text": [
            "4/4 [==============================] - 0s 4ms/step - loss: 16.8201 - mae: 2.5778\n"
          ]
        }
      ]
    },
    {
      "cell_type": "code",
      "metadata": {
        "id": "gt3zzdm3QZT3",
        "colab": {
          "base_uri": "https://localhost:8080/"
        },
        "outputId": "6b83ea88-1e14-4bc8-c803-12912534309b"
      },
      "source": [
        "test_mae_score"
      ],
      "execution_count": 17,
      "outputs": [
        {
          "output_type": "execute_result",
          "data": {
            "text/plain": [
              "2.5777647495269775"
            ]
          },
          "metadata": {},
          "execution_count": 17
        }
      ]
    },
    {
      "cell_type": "markdown",
      "metadata": {
        "id": "cfdnHsTaRFZi"
      },
      "source": [
        "아직까지 약 2,598$ 정도의 차이가 있음"
      ]
    },
    {
      "cell_type": "markdown",
      "metadata": {
        "id": "qpByebp8RyM0"
      },
      "source": [
        "##내용 정리\n",
        "- 회귀는 분류와는 다른 손실 함수 사용. **평균 제곱 오차(MSE)**는 회귀에서 자주 사용되는 손실 함수\n",
        "- 회귀에서 사용되는 평가 지표는 분류와 다름. 정확도 개념은 적용되지 않음. 일반적으로 회귀 지표는 **평균 절대 오차(MAE)**\n",
        "- 입력 데이터의 특성이 서로 다른 범위를 가지면 전처리 단계에서 각 특성을 **개별적으로 스케일 조정**해야 함\n",
        "- 가용한 데이터가 적다면 **k-fold cross validation**을 사용하는 것이 신뢰성 있는 검증 방법임\n",
        "- 가용한 훈련 데이터가 적다면 과적합을 방지하기 위해 **은닉층의 수를 줄인 모델**이 좋다(일반적으로 1개 또는 2개)"
      ]
    },
    {
      "cell_type": "markdown",
      "metadata": {
        "id": "BIKBnfxB7r1x"
      },
      "source": [
        "##개선\n",
        "1. activation relu->selu\n",
        "2. optimizer rmsprop->adam\n",
        "3. 가중치 초기화 He 초깃값 사용\n",
        "4. 가중치 초기화 Xavier 초깃값 사용\n",
        "4. epoch 80->40\n",
        "5. hidden unit 64->128\n",
        "6. layer 추가 2개->3개\n",
        "6. batch normalization\n",
        "9. dropout\n",
        "10. layer 감소 2개->1개\n",
        "11. hidden unit 64->32\n",
        "9. cumstom model(종합)"
      ]
    },
    {
      "cell_type": "code",
      "metadata": {
        "id": "VD3yBmo45tt2"
      },
      "source": [
        "original_test_mae_score = 2.578"
      ],
      "execution_count": 18,
      "outputs": []
    },
    {
      "cell_type": "markdown",
      "metadata": {
        "id": "HgKFW6NW_oYL"
      },
      "source": [
        "##개선 1. 활성화 함수 relu -> selu"
      ]
    },
    {
      "cell_type": "code",
      "metadata": {
        "colab": {
          "base_uri": "https://localhost:8080/"
        },
        "id": "aJwiZvSq3ZqB",
        "outputId": "f3a2dc04-c92e-458b-b52d-6d1fe2f8c486"
      },
      "source": [
        "#메모리 해제, keras가 모든 설정이 초기화된 상태로 다시 시작\n",
        "K.clear_session()\n",
        "\n",
        "def build_model():\n",
        "  # 동일한 모델 여러 번 생성할 것이므로 함수로 만들어 사용\n",
        "  model = models.Sequential()\n",
        "  model.add(layers.Dense(64, activation='selu', input_shape=(train_data.shape[1],)))\n",
        "  model.add(layers.Dense(64, activation='selu'))\n",
        "  model.add(layers.Dense(1))\n",
        "  model.compile(optimizer='rmsprop', loss='mse', metrics=['mae'])\n",
        "  return model\n",
        "\n",
        "# 새롭게 컴파일된 모델을 얻음\n",
        "model = build_model()\n",
        "\n",
        "# 전체 데이터로 훈련\n",
        "model.fit(train_data, train_targets, epochs=80, batch_size=16, verbose=0)\n",
        "test_mse_score, test_mae_score = model.evaluate(test_data, test_targets)\n",
        "\n",
        "print(\"original test mae score :\", original_test_mae_score)\n",
        "print(\"test mae score :\", round(test_mae_score, 3))"
      ],
      "execution_count": 68,
      "outputs": [
        {
          "output_type": "stream",
          "name": "stdout",
          "text": [
            "4/4 [==============================] - 0s 4ms/step - loss: 13.2332 - mae: 2.4440\n",
            "original test mae score : 2.578\n",
            "test mae score : 2.444\n"
          ]
        }
      ]
    },
    {
      "cell_type": "markdown",
      "metadata": {
        "id": "X7ZBSUOtAU3A"
      },
      "source": [
        "##개선 2. optimizer rmsprop -> adam"
      ]
    },
    {
      "cell_type": "code",
      "metadata": {
        "colab": {
          "base_uri": "https://localhost:8080/"
        },
        "id": "1zh1xgLgAAN8",
        "outputId": "9c12296b-0e87-4d73-ae93-f2041b2b0c6c"
      },
      "source": [
        "#메모리 해제, keras가 모든 설정이 초기화된 상태로 다시 시작\n",
        "K.clear_session()\n",
        "\n",
        "def build_model():\n",
        "  # 동일한 모델 여러 번 생성할 것이므로 함수로 만들어 사용\n",
        "  model = models.Sequential()\n",
        "  model.add(layers.Dense(64, activation='relu', input_shape=(train_data.shape[1],)))\n",
        "  model.add(layers.Dense(64, activation='relu'))\n",
        "  model.add(layers.Dense(1))\n",
        "  model.compile(optimizer='adam', loss='mse', metrics=['mae'])\n",
        "  return model\n",
        "\n",
        "# 새롭게 컴파일된 모델을 얻음\n",
        "model = build_model()\n",
        "\n",
        "# 전체 데이터로 훈련\n",
        "model.fit(train_data, train_targets, epochs=80, batch_size=16, verbose=0)\n",
        "test_mse_score, test_mae_score = model.evaluate(test_data, test_targets)\n",
        "\n",
        "print(\"original test mae score :\", original_test_mae_score)\n",
        "print(\"test mae score :\", round(test_mae_score, 3))"
      ],
      "execution_count": 69,
      "outputs": [
        {
          "output_type": "stream",
          "name": "stdout",
          "text": [
            "4/4 [==============================] - 0s 4ms/step - loss: 17.4211 - mae: 2.6562\n",
            "original test mae score : 2.578\n",
            "test mae score : 2.656\n"
          ]
        }
      ]
    },
    {
      "cell_type": "markdown",
      "metadata": {
        "id": "X6BvNnHuAqN7"
      },
      "source": [
        "##개선 3. He initializer 사용"
      ]
    },
    {
      "cell_type": "code",
      "metadata": {
        "colab": {
          "base_uri": "https://localhost:8080/"
        },
        "id": "3hNyGKwIAco9",
        "outputId": "587e1b7c-abcd-4ac4-a860-f7c0a4ff3048"
      },
      "source": [
        "#메모리 해제, keras가 모든 설정이 초기화된 상태로 다시 시작\n",
        "K.clear_session()\n",
        "\n",
        "def build_model():\n",
        "  # 동일한 모델 여러 번 생성할 것이므로 함수로 만들어 사용\n",
        "  model = models.Sequential()\n",
        "  model.add(layers.Dense(64, activation='relu', kernel_initializer='he_normal', input_shape=(train_data.shape[1],)))\n",
        "  model.add(layers.Dense(64, activation='relu'))\n",
        "  model.add(layers.Dense(1))\n",
        "  model.compile(optimizer='rmsprop', loss='mse', metrics=['mae'])\n",
        "  return model\n",
        "\n",
        "# 새롭게 컴파일된 모델을 얻음\n",
        "model = build_model()\n",
        "\n",
        "# 전체 데이터로 훈련\n",
        "model.fit(train_data, train_targets, epochs=80, batch_size=16, verbose=0)\n",
        "test_mse_score, test_mae_score = model.evaluate(test_data, test_targets)\n",
        "\n",
        "print(\"original test mae score :\", original_test_mae_score)\n",
        "print(\"test mae score :\", round(test_mae_score, 3))"
      ],
      "execution_count": 70,
      "outputs": [
        {
          "output_type": "stream",
          "name": "stdout",
          "text": [
            "4/4 [==============================] - 0s 4ms/step - loss: 19.0408 - mae: 2.6537\n",
            "original test mae score : 2.578\n",
            "test mae score : 2.654\n"
          ]
        }
      ]
    },
    {
      "cell_type": "markdown",
      "metadata": {
        "id": "DZfTMRoXA4gJ"
      },
      "source": [
        "##개선 4. Xavier initializer 사용"
      ]
    },
    {
      "cell_type": "code",
      "metadata": {
        "colab": {
          "base_uri": "https://localhost:8080/"
        },
        "id": "nZ1XGmS_A0V-",
        "outputId": "81f21939-7764-4325-e3a2-37632b7ba7f8"
      },
      "source": [
        "#메모리 해제, keras가 모든 설정이 초기화된 상태로 다시 시작\n",
        "K.clear_session()\n",
        "\n",
        "def build_model():\n",
        "  # 동일한 모델 여러 번 생성할 것이므로 함수로 만들어 사용\n",
        "  model = models.Sequential()\n",
        "  model.add(layers.Dense(64, activation='relu', kernel_initializer='glorot_normal', input_shape=(train_data.shape[1],)))\n",
        "  model.add(layers.Dense(64, activation='relu'))\n",
        "  model.add(layers.Dense(1))\n",
        "  model.compile(optimizer='rmsprop', loss='mse', metrics=['mae'])\n",
        "  return model\n",
        "\n",
        "# 새롭게 컴파일된 모델을 얻음\n",
        "model = build_model()\n",
        "\n",
        "# 전체 데이터로 훈련\n",
        "model.fit(train_data, train_targets, epochs=80, batch_size=16, verbose=0)\n",
        "test_mse_score, test_mae_score = model.evaluate(test_data, test_targets)\n",
        "\n",
        "print(\"original test mae score :\", original_test_mae_score)\n",
        "print(\"test mae score :\", round(test_mae_score, 3))"
      ],
      "execution_count": 71,
      "outputs": [
        {
          "output_type": "stream",
          "name": "stdout",
          "text": [
            "4/4 [==============================] - 0s 4ms/step - loss: 19.0897 - mae: 2.7691\n",
            "original test mae score : 2.578\n",
            "test mae score : 2.769\n"
          ]
        }
      ]
    },
    {
      "cell_type": "markdown",
      "metadata": {
        "id": "99hQPR8uBHln"
      },
      "source": [
        "##개선 5. 에폭 80 -> 40"
      ]
    },
    {
      "cell_type": "code",
      "metadata": {
        "colab": {
          "base_uri": "https://localhost:8080/"
        },
        "id": "QWEtoG1ABBw5",
        "outputId": "338ade7a-137f-45a8-f22b-3afeb4e5d959"
      },
      "source": [
        "#메모리 해제, keras가 모든 설정이 초기화된 상태로 다시 시작\n",
        "K.clear_session()\n",
        "\n",
        "def build_model():\n",
        "  # 동일한 모델 여러 번 생성할 것이므로 함수로 만들어 사용\n",
        "  model = models.Sequential()\n",
        "  model.add(layers.Dense(64, activation='relu', input_shape=(train_data.shape[1],)))\n",
        "  model.add(layers.Dense(64, activation='relu'))\n",
        "  model.add(layers.Dense(1))\n",
        "  model.compile(optimizer='rmsprop', loss='mse', metrics=['mae'])\n",
        "  return model\n",
        "\n",
        "# 새롭게 컴파일된 모델을 얻음\n",
        "model = build_model()\n",
        "\n",
        "# 전체 데이터로 훈련\n",
        "model.fit(train_data, train_targets, epochs=40, batch_size=16, verbose=0)\n",
        "test_mse_score, test_mae_score = model.evaluate(test_data, test_targets)\n",
        "\n",
        "print(\"original test mae score :\", original_test_mae_score)\n",
        "print(\"test mae score :\", round(test_mae_score, 3))"
      ],
      "execution_count": 72,
      "outputs": [
        {
          "output_type": "stream",
          "name": "stdout",
          "text": [
            "4/4 [==============================] - 0s 5ms/step - loss: 22.5996 - mae: 3.0408\n",
            "original test mae score : 2.578\n",
            "test mae score : 3.041\n"
          ]
        }
      ]
    },
    {
      "cell_type": "markdown",
      "metadata": {
        "id": "0pfWy6eQBkNV"
      },
      "source": [
        "##개선 6. hidden unit 64 -> 128"
      ]
    },
    {
      "cell_type": "code",
      "metadata": {
        "colab": {
          "base_uri": "https://localhost:8080/"
        },
        "id": "4VbWfPiMBU4q",
        "outputId": "74743c60-af7e-4bb5-8371-5f727d507e03"
      },
      "source": [
        "#메모리 해제, keras가 모든 설정이 초기화된 상태로 다시 시작\n",
        "K.clear_session()\n",
        "\n",
        "def build_model():\n",
        "  # 동일한 모델 여러 번 생성할 것이므로 함수로 만들어 사용\n",
        "  model = models.Sequential()\n",
        "  model.add(layers.Dense(128, activation='relu', input_shape=(train_data.shape[1],)))\n",
        "  model.add(layers.Dense(128, activation='relu'))\n",
        "  model.add(layers.Dense(1))\n",
        "  model.compile(optimizer='rmsprop', loss='mse', metrics=['mae'])\n",
        "  return model\n",
        "\n",
        "# 새롭게 컴파일된 모델을 얻음\n",
        "model = build_model()\n",
        "\n",
        "# 전체 데이터로 훈련\n",
        "model.fit(train_data, train_targets, epochs=80, batch_size=16, verbose=0)\n",
        "test_mse_score, test_mae_score = model.evaluate(test_data, test_targets)\n",
        "\n",
        "print(\"original test mae score :\", original_test_mae_score)\n",
        "print(\"test mae score :\", round(test_mae_score, 3))"
      ],
      "execution_count": 73,
      "outputs": [
        {
          "output_type": "stream",
          "name": "stdout",
          "text": [
            "4/4 [==============================] - 0s 4ms/step - loss: 16.7353 - mae: 2.7848\n",
            "original test mae score : 2.578\n",
            "test mae score : 2.785\n"
          ]
        }
      ]
    },
    {
      "cell_type": "markdown",
      "metadata": {
        "id": "-54zJIGRBugB"
      },
      "source": [
        "##개선 7. hidden layer 1개 추가"
      ]
    },
    {
      "cell_type": "code",
      "metadata": {
        "colab": {
          "base_uri": "https://localhost:8080/"
        },
        "id": "dsNzS_86BqYE",
        "outputId": "bfc1dd88-796f-47da-da46-4f84c1563005"
      },
      "source": [
        "#메모리 해제, keras가 모든 설정이 초기화된 상태로 다시 시작\n",
        "K.clear_session()\n",
        "\n",
        "def build_model():\n",
        "  # 동일한 모델 여러 번 생성할 것이므로 함수로 만들어 사용\n",
        "  model = models.Sequential()\n",
        "  model.add(layers.Dense(64, activation='relu', input_shape=(train_data.shape[1],)))\n",
        "  model.add(layers.Dense(64, activation='relu'))\n",
        "  model.add(layers.Dense(64, activation='relu'))\n",
        "  model.add(layers.Dense(1))\n",
        "  model.compile(optimizer='rmsprop', loss='mse', metrics=['mae'])\n",
        "  return model\n",
        "\n",
        "# 새롭게 컴파일된 모델을 얻음\n",
        "model = build_model()\n",
        "\n",
        "# 전체 데이터로 훈련\n",
        "model.fit(train_data, train_targets, epochs=80, batch_size=16, verbose=0)\n",
        "test_mse_score, test_mae_score = model.evaluate(test_data, test_targets)\n",
        "\n",
        "print(\"original test mae score :\", original_test_mae_score)\n",
        "print(\"test mae score :\", round(test_mae_score, 3))"
      ],
      "execution_count": 74,
      "outputs": [
        {
          "output_type": "stream",
          "name": "stdout",
          "text": [
            "4/4 [==============================] - 0s 5ms/step - loss: 14.5216 - mae: 2.4868\n",
            "original test mae score : 2.578\n",
            "test mae score : 2.487\n"
          ]
        }
      ]
    },
    {
      "cell_type": "markdown",
      "metadata": {
        "id": "m2_-2hEBCGBu"
      },
      "source": [
        "##개선 8. Batch Normalization"
      ]
    },
    {
      "cell_type": "code",
      "metadata": {
        "colab": {
          "base_uri": "https://localhost:8080/"
        },
        "id": "AjUsNN79B-02",
        "outputId": "64511cb7-5e8c-4a88-c044-d94f7cdf28a2"
      },
      "source": [
        "#메모리 해제, keras가 모든 설정이 초기화된 상태로 다시 시작\n",
        "K.clear_session()\n",
        "\n",
        "def build_model():\n",
        "  # 동일한 모델 여러 번 생성할 것이므로 함수로 만들어 사용\n",
        "  model = models.Sequential()\n",
        "  model.add(layers.Dense(64, activation='relu', input_shape=(train_data.shape[1],)))\n",
        "  model.add(layers.BatchNormalization())\n",
        "  model.add(layers.Dense(64, activation='relu'))\n",
        "  model.add(layers.BatchNormalization())\n",
        "  model.add(layers.Dense(1))\n",
        "  model.compile(optimizer='rmsprop', loss='mse', metrics=['mae'])\n",
        "  return model\n",
        "\n",
        "# 새롭게 컴파일된 모델을 얻음\n",
        "model = build_model()\n",
        "\n",
        "# 전체 데이터로 훈련\n",
        "model.fit(train_data, train_targets, epochs=80, batch_size=16, verbose=0)\n",
        "test_mse_score, test_mae_score = model.evaluate(test_data, test_targets)\n",
        "\n",
        "print(\"original test mae score :\", original_test_mae_score)\n",
        "print(\"test mae score :\", round(test_mae_score, 3))"
      ],
      "execution_count": 75,
      "outputs": [
        {
          "output_type": "stream",
          "name": "stdout",
          "text": [
            "4/4 [==============================] - 0s 5ms/step - loss: 17.1125 - mae: 2.5411\n",
            "original test mae score : 2.578\n",
            "test mae score : 2.541\n"
          ]
        }
      ]
    },
    {
      "cell_type": "markdown",
      "metadata": {
        "id": "ARjKbvc6HIeB"
      },
      "source": [
        "##개선 9. Dropout"
      ]
    },
    {
      "cell_type": "code",
      "metadata": {
        "colab": {
          "base_uri": "https://localhost:8080/"
        },
        "id": "btZqYaSwHM5B",
        "outputId": "2c7b0d3e-1fd8-456b-f81e-f7cb1ef8a0fa"
      },
      "source": [
        "#메모리 해제, keras가 모든 설정이 초기화된 상태로 다시 시작\n",
        "K.clear_session()\n",
        "\n",
        "def build_model():\n",
        "  # 동일한 모델 여러 번 생성할 것이므로 함수로 만들어 사용\n",
        "  model = models.Sequential()\n",
        "  model.add(layers.Dense(64, activation='relu', input_shape=(train_data.shape[1],)))\n",
        "  model.add(layers.Dropout(0.1))\n",
        "  model.add(layers.Dense(64, activation='relu'))\n",
        "  model.add(layers.Dropout(0.1))\n",
        "  model.add(layers.Dense(1))\n",
        "  model.compile(optimizer='rmsprop', loss='mse', metrics=['mae'])\n",
        "  return model\n",
        "\n",
        "# 새롭게 컴파일된 모델을 얻음\n",
        "model = build_model()\n",
        "\n",
        "# 전체 데이터로 훈련\n",
        "model.fit(train_data, train_targets, epochs=80, batch_size=16, verbose=0)\n",
        "test_mse_score, test_mae_score = model.evaluate(test_data, test_targets)\n",
        "\n",
        "print(\"original test mae score :\", original_test_mae_score)\n",
        "print(\"test mae score :\", round(test_mae_score, 3))"
      ],
      "execution_count": 77,
      "outputs": [
        {
          "output_type": "stream",
          "name": "stdout",
          "text": [
            "4/4 [==============================] - 0s 5ms/step - loss: 18.8293 - mae: 2.6439\n",
            "original test mae score : 2.578\n",
            "test mae score : 2.644\n"
          ]
        }
      ]
    },
    {
      "cell_type": "markdown",
      "metadata": {
        "id": "SWjUj1LLIUnS"
      },
      "source": [
        "##개선 10. 은닉층 수 감소(2층->1층)"
      ]
    },
    {
      "cell_type": "code",
      "metadata": {
        "colab": {
          "base_uri": "https://localhost:8080/"
        },
        "id": "74Ypexm1IZoJ",
        "outputId": "8ebe20bd-36ec-46e0-cd99-2472e5897cdb"
      },
      "source": [
        "#메모리 해제, keras가 모든 설정이 초기화된 상태로 다시 시작\n",
        "K.clear_session()\n",
        "\n",
        "def build_model():\n",
        "  # 동일한 모델 여러 번 생성할 것이므로 함수로 만들어 사용\n",
        "  model = models.Sequential()\n",
        "  model.add(layers.Dense(64, activation='relu', input_shape=(train_data.shape[1],)))\n",
        "  model.add(layers.Dense(1))\n",
        "  model.compile(optimizer='rmsprop', loss='mse', metrics=['mae'])\n",
        "  return model\n",
        "\n",
        "# 새롭게 컴파일된 모델을 얻음\n",
        "model = build_model()\n",
        "\n",
        "# 전체 데이터로 훈련\n",
        "model.fit(train_data, train_targets, epochs=80, batch_size=16, verbose=0)\n",
        "test_mse_score, test_mae_score = model.evaluate(test_data, test_targets)\n",
        "\n",
        "print(\"original test mae score :\", original_test_mae_score)\n",
        "print(\"test mae score :\", round(test_mae_score, 3))"
      ],
      "execution_count": 78,
      "outputs": [
        {
          "output_type": "stream",
          "name": "stdout",
          "text": [
            "4/4 [==============================] - 0s 4ms/step - loss: 20.5311 - mae: 2.9633\n",
            "original test mae score : 2.578\n",
            "test mae score : 2.963\n"
          ]
        }
      ]
    },
    {
      "cell_type": "markdown",
      "metadata": {
        "id": "Xfm1-2soIn_c"
      },
      "source": [
        "##개선 11. 은닉 유닛 수 감소(64개->32개)"
      ]
    },
    {
      "cell_type": "code",
      "metadata": {
        "colab": {
          "base_uri": "https://localhost:8080/"
        },
        "id": "eqkzVKnmIsqw",
        "outputId": "b5436a54-baaa-4b48-fa28-2b1ce0519187"
      },
      "source": [
        "#메모리 해제, keras가 모든 설정이 초기화된 상태로 다시 시작\n",
        "K.clear_session()\n",
        "\n",
        "def build_model():\n",
        "  # 동일한 모델 여러 번 생성할 것이므로 함수로 만들어 사용\n",
        "  model = models.Sequential()\n",
        "  model.add(layers.Dense(32, activation='relu', input_shape=(train_data.shape[1],)))\n",
        "  model.add(layers.Dense(32, activation='relu'))\n",
        "  model.add(layers.Dense(1))\n",
        "  model.compile(optimizer='rmsprop', loss='mse', metrics=['mae'])\n",
        "  return model\n",
        "\n",
        "# 새롭게 컴파일된 모델을 얻음\n",
        "model = build_model()\n",
        "\n",
        "# 전체 데이터로 훈련\n",
        "model.fit(train_data, train_targets, epochs=80, batch_size=16, verbose=0)\n",
        "test_mse_score, test_mae_score = model.evaluate(test_data, test_targets)\n",
        "\n",
        "print(\"original test mae score :\", original_test_mae_score)\n",
        "print(\"test mae score :\", round(test_mae_score, 3))"
      ],
      "execution_count": 79,
      "outputs": [
        {
          "output_type": "stream",
          "name": "stdout",
          "text": [
            "4/4 [==============================] - 0s 4ms/step - loss: 20.1558 - mae: 2.7450\n",
            "original test mae score : 2.578\n",
            "test mae score : 2.745\n"
          ]
        }
      ]
    },
    {
      "cell_type": "markdown",
      "metadata": {
        "id": "M4MUpHfjDEvq"
      },
      "source": [
        "##개선 12. Custom model(종합)\n",
        "- layer 추가(2층->3층)\n",
        "- 배치정규화"
      ]
    },
    {
      "cell_type": "code",
      "metadata": {
        "colab": {
          "base_uri": "https://localhost:8080/"
        },
        "id": "Bqyeu1FJDJ90",
        "outputId": "ddda5509-7633-47dd-b3c8-37ee627c676c"
      },
      "source": [
        "#메모리 해제, keras가 모든 설정이 초기화된 상태로 다시 시작\n",
        "K.clear_session()\n",
        "\n",
        "def build_model():\n",
        "  # 동일한 모델 여러 번 생성할 것이므로 함수로 만들어 사용\n",
        "  model = models.Sequential()\n",
        "  model.add(layers.Dense(64, activation='relu', input_shape=(train_data.shape[1],)))\n",
        "  model.add(layers.BatchNormalization())\n",
        "  model.add(layers.Dense(64, activation='relu'))\n",
        "  model.add(layers.BatchNormalization())\n",
        "  model.add(layers.Dense(64, activation='relu'))\n",
        "  model.add(layers.BatchNormalization())\n",
        "  model.add(layers.Dense(1))\n",
        "  model.compile(optimizer='rmsprop', loss='mse', metrics=['mae'])\n",
        "  return model\n",
        "\n",
        "# 새롭게 컴파일된 모델을 얻음\n",
        "model = build_model()\n",
        "\n",
        "# 전체 데이터로 훈련\n",
        "model.fit(train_data, train_targets, epochs=80, batch_size=16, verbose=0)\n",
        "test_mse_score, test_mae_score = model.evaluate(test_data, test_targets)\n",
        "\n",
        "print(\"original test mae score :\", original_test_mae_score)\n",
        "print(\"test mae score :\", round(test_mae_score, 3))"
      ],
      "execution_count": 85,
      "outputs": [
        {
          "output_type": "stream",
          "name": "stdout",
          "text": [
            "4/4 [==============================] - 0s 4ms/step - loss: 12.1671 - mae: 2.3726\n",
            "original test mae score : 2.578\n",
            "test mae score : 2.373\n"
          ]
        }
      ]
    },
    {
      "cell_type": "markdown",
      "metadata": {
        "id": "VoJgAM6rMKrx"
      },
      "source": [
        "## 결론\n",
        "- original test mae score = 2.578\n",
        "- **minimum test mae score = `2.373`**\n",
        "- 해당 모델은 **hidden layer 추가**와 **배치정규화**의 개선사항을 추가하였다.\n",
        "- 약 0.2 즉, 200달러 정도 실제 정답에 더 가까운 값을 도출해내었다."
      ]
    }
  ]
}