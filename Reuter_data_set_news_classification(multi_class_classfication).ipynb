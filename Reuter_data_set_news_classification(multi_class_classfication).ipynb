{
  "nbformat": 4,
  "nbformat_minor": 0,
  "metadata": {
    "colab": {
      "name": "Reuter data set news classification(multi-class classfication).ipynb",
      "provenance": [],
      "collapsed_sections": [],
      "authorship_tag": "ABX9TyOqsVF2sPmAjHkgcZUhDFmK"
    },
    "kernelspec": {
      "name": "python3",
      "display_name": "Python 3"
    },
    "language_info": {
      "name": "python"
    }
  },
  "cells": [
    {
      "cell_type": "markdown",
      "metadata": {
        "id": "9_wKRZXHq9Kl"
      },
      "source": [
        "# <b>Reuter data set news classification(multi-class classfication)</b>"
      ]
    },
    {
      "cell_type": "markdown",
      "metadata": {
        "id": "05rLYfKNrc4f"
      },
      "source": [
        "## Load data"
      ]
    },
    {
      "cell_type": "code",
      "metadata": {
        "id": "_yy1ZjZsqjzk"
      },
      "source": [
        "from keras.datasets import reuters\n",
        "\n",
        "(train_data, train_labels), (test_data, test_labels) = reuters.load_data(num_words=10000)"
      ],
      "execution_count": null,
      "outputs": []
    },
    {
      "cell_type": "code",
      "metadata": {
        "colab": {
          "base_uri": "https://localhost:8080/"
        },
        "id": "8o8mBgucrcQv",
        "outputId": "86e0a6ea-b91e-42cb-8453-c9fb906f8540"
      },
      "source": [
        "len(train_data)"
      ],
      "execution_count": null,
      "outputs": [
        {
          "output_type": "execute_result",
          "data": {
            "text/plain": [
              "8982"
            ]
          },
          "metadata": {},
          "execution_count": 19
        }
      ]
    },
    {
      "cell_type": "code",
      "metadata": {
        "colab": {
          "base_uri": "https://localhost:8080/"
        },
        "id": "w6zaHzQrrzwM",
        "outputId": "da3d74be-1635-46e9-f5da-3c8ceff84c58"
      },
      "source": [
        "len(test_data)"
      ],
      "execution_count": null,
      "outputs": [
        {
          "output_type": "execute_result",
          "data": {
            "text/plain": [
              "2246"
            ]
          },
          "metadata": {},
          "execution_count": 20
        }
      ]
    },
    {
      "cell_type": "code",
      "metadata": {
        "colab": {
          "base_uri": "https://localhost:8080/"
        },
        "id": "QOqUcAKnr6gz",
        "outputId": "3e66a0de-ba3d-46ec-db8d-ad4828d7ef56"
      },
      "source": [
        "print(train_data[10])"
      ],
      "execution_count": null,
      "outputs": [
        {
          "output_type": "stream",
          "name": "stdout",
          "text": [
            "[1, 245, 273, 207, 156, 53, 74, 160, 26, 14, 46, 296, 26, 39, 74, 2979, 3554, 14, 46, 4689, 4329, 86, 61, 3499, 4795, 14, 61, 451, 4329, 17, 12]\n"
          ]
        }
      ]
    },
    {
      "cell_type": "markdown",
      "metadata": {
        "id": "Cby4CigOtb_V"
      },
      "source": [
        "## Decoding to words"
      ]
    },
    {
      "cell_type": "code",
      "metadata": {
        "id": "02SifCKGs4ld"
      },
      "source": [
        "word_index = reuters.get_word_index()\n",
        "reverse_word_index = dict([(value,key) for (key,value) in word_index.items()])\n",
        "decoded_newswire = ' '.join([reverse_word_index.get(i-3, '?') for i in train_data[0]])"
      ],
      "execution_count": null,
      "outputs": []
    },
    {
      "cell_type": "code",
      "metadata": {
        "colab": {
          "base_uri": "https://localhost:8080/",
          "height": 70
        },
        "id": "HTTk_fIItX17",
        "outputId": "6aa87761-712c-493d-8793-2550ed7e6468"
      },
      "source": [
        "decoded_newswire"
      ],
      "execution_count": null,
      "outputs": [
        {
          "output_type": "execute_result",
          "data": {
            "application/vnd.google.colaboratory.intrinsic+json": {
              "type": "string"
            },
            "text/plain": [
              "'? ? ? said as a result of its december acquisition of space co it expects earnings per share in 1987 of 1 15 to 1 30 dlrs per share up from 70 cts in 1986 the company said pretax net should rise to nine to 10 mln dlrs from six mln dlrs in 1986 and rental operation revenues to 19 to 22 mln dlrs from 12 5 mln dlrs it said cash flow per share this year should be 2 50 to three dlrs reuter 3'"
            ]
          },
          "metadata": {},
          "execution_count": 23
        }
      ]
    },
    {
      "cell_type": "markdown",
      "metadata": {
        "id": "hRljJ46AsDiP"
      },
      "source": [
        "## Preprocessing\n",
        "- conver data to one-hot encoding"
      ]
    },
    {
      "cell_type": "code",
      "metadata": {
        "id": "mggDKc7hr8FW"
      },
      "source": [
        "import numpy as np\n",
        "\n",
        "def vectorize_sequences(sequences, dimension=10000):\n",
        "  results = np.zeros((len(sequences), dimension))\n",
        "  for i, sequence in enumerate(sequences):\n",
        "    results[i, sequence] = 1\n",
        "  return results\n",
        "\n",
        "x_train = vectorize_sequences(train_data)\n",
        "x_test = vectorize_sequences(test_data)"
      ],
      "execution_count": null,
      "outputs": []
    },
    {
      "cell_type": "markdown",
      "metadata": {
        "id": "_3DZc71Ytp1A"
      },
      "source": [
        "- convert label data to one-hot encoding(manually)"
      ]
    },
    {
      "cell_type": "code",
      "metadata": {
        "id": "y_sQa9N4snDJ"
      },
      "source": [
        "def to_one_hot(labels, dimension=46):\n",
        "  results = np.zeros((len(labels), dimension))\n",
        "  for i, label in enumerate(labels):\n",
        "    results[i, label] = 1.\n",
        "  return results\n",
        "\n",
        "one_hot_train_labels = to_one_hot(train_labels) # train label convert\n",
        "one_hot_test_labels = to_one_hot(test_labels) # test label convert\n"
      ],
      "execution_count": null,
      "outputs": []
    },
    {
      "cell_type": "markdown",
      "metadata": {
        "id": "_7KZFMLpuP44"
      },
      "source": [
        "- convert label data to one-hot encoding(using keras module)"
      ]
    },
    {
      "cell_type": "code",
      "metadata": {
        "id": "zFgEOKVfuV51"
      },
      "source": [
        "from keras.utils.np_utils import to_categorical\n",
        "\n",
        "one_hot_train_labels = to_categorical(train_labels)\n",
        "one_hot_test_labels = to_categorical(test_labels)"
      ],
      "execution_count": null,
      "outputs": []
    },
    {
      "cell_type": "markdown",
      "metadata": {
        "id": "ENRCeECpuuM8"
      },
      "source": [
        "## Model definition\n",
        "- 64 hidden units\n",
        "- 2 hidden layers"
      ]
    },
    {
      "cell_type": "code",
      "metadata": {
        "id": "j70Z0zFnuiiz"
      },
      "source": [
        "from keras import models, layers\n",
        "\n",
        "model = models.Sequential()\n",
        "model.add(layers.Dense(64, activation='relu', input_shape=(10000,)))\n",
        "model.add(layers.Dense(64, activation='relu'))\n",
        "model.add(layers.Dense(46, activation='softmax'))"
      ],
      "execution_count": null,
      "outputs": []
    },
    {
      "cell_type": "markdown",
      "metadata": {
        "id": "kcrwwF4qvVAX"
      },
      "source": [
        "## Model compile"
      ]
    },
    {
      "cell_type": "code",
      "metadata": {
        "id": "G3n14lB5vPDk"
      },
      "source": [
        "model.compile(optimizer='rmsprop', loss='categorical_crossentropy', metrics=['acc'])"
      ],
      "execution_count": null,
      "outputs": []
    },
    {
      "cell_type": "markdown",
      "metadata": {
        "id": "WVjKVbfsvf-Q"
      },
      "source": [
        "## Test using validation set"
      ]
    },
    {
      "cell_type": "code",
      "metadata": {
        "colab": {
          "base_uri": "https://localhost:8080/"
        },
        "id": "-czqQYlAve6m",
        "outputId": "ef368916-e7b6-4ac3-86e2-46d5038a0538"
      },
      "source": [
        "# preparing validation set\n",
        "x_val = x_train[:1000]\n",
        "partial_x_train = x_train[1000:]\n",
        "y_val = one_hot_test_labels[:1000]\n",
        "partial_y_train = one_hot_train_labels[1000:]\n",
        "\n",
        "# training model\n",
        "history = model.fit(partial_x_train, partial_y_train, epochs=20, batch_size=512, validation_data=(x_val, y_val))\n",
        "results = model.evaluate(x_test, one_hot_test_labels)"
      ],
      "execution_count": null,
      "outputs": [
        {
          "output_type": "stream",
          "name": "stdout",
          "text": [
            "Epoch 1/20\n",
            "16/16 [==============================] - 1s 62ms/step - loss: 0.2545 - acc: 0.9417 - val_loss: 5.8315 - val_acc: 0.1930\n",
            "Epoch 2/20\n",
            "16/16 [==============================] - 1s 52ms/step - loss: 0.2174 - acc: 0.9476 - val_loss: 5.9083 - val_acc: 0.2110\n",
            "Epoch 3/20\n",
            "16/16 [==============================] - 1s 51ms/step - loss: 0.1909 - acc: 0.9513 - val_loss: 6.1628 - val_acc: 0.2000\n",
            "Epoch 4/20\n",
            "16/16 [==============================] - 1s 58ms/step - loss: 0.1709 - acc: 0.9540 - val_loss: 6.2452 - val_acc: 0.2060\n",
            "Epoch 5/20\n",
            "16/16 [==============================] - 1s 58ms/step - loss: 0.1551 - acc: 0.9534 - val_loss: 6.6067 - val_acc: 0.2050\n",
            "Epoch 6/20\n",
            "16/16 [==============================] - 1s 49ms/step - loss: 0.1411 - acc: 0.9564 - val_loss: 6.5162 - val_acc: 0.2090\n",
            "Epoch 7/20\n",
            "16/16 [==============================] - 1s 58ms/step - loss: 0.1342 - acc: 0.9549 - val_loss: 6.8562 - val_acc: 0.1970\n",
            "Epoch 8/20\n",
            "16/16 [==============================] - 1s 51ms/step - loss: 0.1270 - acc: 0.9569 - val_loss: 7.0407 - val_acc: 0.2090\n",
            "Epoch 9/20\n",
            "16/16 [==============================] - 1s 47ms/step - loss: 0.1197 - acc: 0.9578 - val_loss: 7.0095 - val_acc: 0.2050\n",
            "Epoch 10/20\n",
            "16/16 [==============================] - 1s 47ms/step - loss: 0.1161 - acc: 0.9577 - val_loss: 7.2089 - val_acc: 0.2120\n",
            "Epoch 11/20\n",
            "16/16 [==============================] - 1s 60ms/step - loss: 0.1119 - acc: 0.9568 - val_loss: 7.3735 - val_acc: 0.2040\n",
            "Epoch 12/20\n",
            "16/16 [==============================] - 1s 49ms/step - loss: 0.1082 - acc: 0.9575 - val_loss: 7.4996 - val_acc: 0.2010\n",
            "Epoch 13/20\n",
            "16/16 [==============================] - 1s 48ms/step - loss: 0.1057 - acc: 0.9568 - val_loss: 7.6194 - val_acc: 0.2100\n",
            "Epoch 14/20\n",
            "16/16 [==============================] - 1s 48ms/step - loss: 0.1043 - acc: 0.9597 - val_loss: 7.7005 - val_acc: 0.2040\n",
            "Epoch 15/20\n",
            "16/16 [==============================] - 1s 46ms/step - loss: 0.1044 - acc: 0.9573 - val_loss: 7.6774 - val_acc: 0.2010\n",
            "Epoch 16/20\n",
            "16/16 [==============================] - 1s 60ms/step - loss: 0.0977 - acc: 0.9573 - val_loss: 7.7804 - val_acc: 0.2010\n",
            "Epoch 17/20\n",
            "16/16 [==============================] - 1s 59ms/step - loss: 0.0964 - acc: 0.9597 - val_loss: 7.8208 - val_acc: 0.2180\n",
            "Epoch 18/20\n",
            "16/16 [==============================] - 1s 60ms/step - loss: 0.1016 - acc: 0.9572 - val_loss: 7.9472 - val_acc: 0.2050\n",
            "Epoch 19/20\n",
            "16/16 [==============================] - 1s 60ms/step - loss: 0.0968 - acc: 0.9574 - val_loss: 8.0185 - val_acc: 0.2100\n",
            "Epoch 20/20\n",
            "16/16 [==============================] - 1s 53ms/step - loss: 0.0977 - acc: 0.9572 - val_loss: 8.1388 - val_acc: 0.2010\n",
            "71/71 [==============================] - 0s 4ms/step - loss: 1.3929 - acc: 0.7836\n"
          ]
        }
      ]
    },
    {
      "cell_type": "markdown",
      "metadata": {
        "id": "2tVrqAE3wKh7"
      },
      "source": [
        "## Drawing graph\n",
        "- loss graph"
      ]
    },
    {
      "cell_type": "code",
      "metadata": {
        "colab": {
          "base_uri": "https://localhost:8080/",
          "height": 295
        },
        "id": "tV9k366rwC83",
        "outputId": "a5620636-a3e9-4509-ca79-29762ddfa801"
      },
      "source": [
        "import matplotlib.pyplot as plt\n",
        "\n",
        "loss = history.history['loss']\n",
        "val_loss = history.history['val_loss']\n",
        "\n",
        "epochs = range(1, len(loss)+1)\n",
        "\n",
        "plt.plot(epochs, loss, 'bo', label='Training loss')\n",
        "plt.plot(epochs, val_loss, 'b', label='Validation loss')\n",
        "plt.title('Training and validation loss')\n",
        "plt.xlabel('Epochs')\n",
        "plt.ylabel('Loss')\n",
        "plt.legend()\n",
        "\n",
        "plt.show()"
      ],
      "execution_count": null,
      "outputs": [
        {
          "output_type": "display_data",
          "data": {
            "image/png": "[encoded data removed]",
            "text/plain": [
              "<Figure size 432x288 with 1 Axes>"
            ]
          },
          "metadata": {
            "needs_background": "light"
          }
        }
      ]
    },
    {
      "cell_type": "markdown",
      "metadata": {
        "id": "SW5303JewzZ5"
      },
      "source": [
        "- Acc graph"
      ]
    },
    {
      "cell_type": "code",
      "metadata": {
        "colab": {
          "base_uri": "https://localhost:8080/",
          "height": 295
        },
        "id": "CPCdv6MTwwqp",
        "outputId": "3c5f7e64-b968-45dc-99e6-d69262fcdef0"
      },
      "source": [
        "plt.clf()\n",
        "\n",
        "acc = history.history['acc']\n",
        "val_acc = history.history['val_acc']\n",
        "\n",
        "plt.plot(epochs, acc, 'bo', label='Training acc')\n",
        "plt.plot(epochs, val_acc, 'b', label='Validation acc')\n",
        "plt.title('Training and validation acc')\n",
        "plt.xlabel('Epochs')\n",
        "plt.ylabel('Acc')\n",
        "plt.legend()\n",
        "\n",
        "plt.show()"
      ],
      "execution_count": null,
      "outputs": [
        {
          "output_type": "display_data",
          "data": {
            "image/png": "[encoded data removed]",
            "text/plain": [
              "<Figure size 432x288 with 1 Axes>"
            ]
          },
          "metadata": {
            "needs_background": "light"
          }
        }
      ]
    },
    {
      "cell_type": "markdown",
      "metadata": {
        "id": "pDTxiVXoyaKd"
      },
      "source": [
        "\n",
        "## epoch 줄여서 재학습(overfitting 방지)\n",
        "- 0.78에서 0.79로 acc 조금 상승\n",
        "- 보통 그래프를 보고 과적합이 일어나는 지점의 epoch을 파악해 해당 시점까지 학습을 진행시킨다.\n"
      ]
    },
    {
      "cell_type": "code",
      "metadata": {
        "colab": {
          "base_uri": "https://localhost:8080/"
        },
        "id": "WLi0_-ePxJB0",
        "outputId": "e4568a53-c9ce-4857-d7d3-e3ff7cedf4c6"
      },
      "source": [
        "model = models.Sequential()\n",
        "model.add(layers.Dense(64, activation='relu', input_shape=(10000,)))\n",
        "model.add(layers.Dense(64, activation='relu'))\n",
        "model.add(layers.Dense(46, activation='softmax'))\n",
        "\n",
        "model.compile(optimizer='rmsprop', loss='categorical_crossentropy', metrics=['acc'])\n",
        "\n",
        "model.fit(partial_x_train, partial_y_train, epochs=9, batch_size=512, validation_data=(x_val, y_val))\n",
        "results = model.evaluate(x_test, one_hot_test_labels)"
      ],
      "execution_count": null,
      "outputs": [
        {
          "output_type": "stream",
          "name": "stdout",
          "text": [
            "Epoch 1/9\n",
            "16/16 [==============================] - 2s 61ms/step - loss: 2.7004 - acc: 0.5113 - val_loss: 3.0751 - val_acc: 0.2530\n",
            "Epoch 2/9\n",
            "16/16 [==============================] - 1s 58ms/step - loss: 1.4746 - acc: 0.6948 - val_loss: 3.5921 - val_acc: 0.2180\n",
            "Epoch 3/9\n",
            "16/16 [==============================] - 1s 55ms/step - loss: 1.0946 - acc: 0.7618 - val_loss: 4.0009 - val_acc: 0.2030\n",
            "Epoch 4/9\n",
            "16/16 [==============================] - 1s 49ms/step - loss: 0.8670 - acc: 0.8138 - val_loss: 4.2372 - val_acc: 0.1940\n",
            "Epoch 5/9\n",
            "16/16 [==============================] - 1s 49ms/step - loss: 0.6949 - acc: 0.8601 - val_loss: 4.5118 - val_acc: 0.2090\n",
            "Epoch 6/9\n",
            "16/16 [==============================] - 1s 61ms/step - loss: 0.5570 - acc: 0.8887 - val_loss: 4.7321 - val_acc: 0.2030\n",
            "Epoch 7/9\n",
            "16/16 [==============================] - 1s 51ms/step - loss: 0.4517 - acc: 0.9058 - val_loss: 4.9690 - val_acc: 0.2010\n",
            "Epoch 8/9\n",
            "16/16 [==============================] - 1s 59ms/step - loss: 0.3697 - acc: 0.9214 - val_loss: 5.1152 - val_acc: 0.1920\n",
            "Epoch 9/9\n",
            "16/16 [==============================] - 1s 60ms/step - loss: 0.3037 - acc: 0.9322 - val_loss: 5.5554 - val_acc: 0.1940\n",
            "71/71 [==============================] - 0s 4ms/step - loss: 0.9722 - acc: 0.7916\n"
          ]
        }
      ]
    },
    {
      "cell_type": "markdown",
      "metadata": {
        "id": "lB4V-wzdzWtw"
      },
      "source": [
        "## Predict for new data"
      ]
    },
    {
      "cell_type": "code",
      "metadata": {
        "id": "Th4uUuPuyZTP"
      },
      "source": [
        "predictions = model.predict(x_test) # predictions는 각 항목의 길이가 46인 벡터(46개의 topic 중 각각에 속할 확률)"
      ],
      "execution_count": null,
      "outputs": []
    },
    {
      "cell_type": "code",
      "metadata": {
        "colab": {
          "base_uri": "https://localhost:8080/"
        },
        "id": "qdZiwmVozkFW",
        "outputId": "c4bfdec2-3734-493b-a5b7-ff6cc6269c1b"
      },
      "source": [
        "print(predictions[0])"
      ],
      "execution_count": null,
      "outputs": [
        {
          "output_type": "stream",
          "name": "stdout",
          "text": [
            "[3.92810790e-07 1.48981453e-05 5.76418380e-09 7.78881907e-01\n",
            " 2.04340681e-01 5.23084331e-08 8.23579593e-10 2.48658353e-06\n",
            " 9.84617695e-03 1.26366535e-06 6.27499503e-06 2.70776975e-04\n",
            " 3.84834209e-07 3.35392178e-05 3.49588447e-07 1.36173711e-07\n",
            " 1.74236367e-04 9.71661294e-08 1.98050634e-06 1.24785153e-03\n",
            " 5.07000927e-03 2.44631156e-05 1.04571626e-07 2.49732761e-06\n",
            " 1.88263467e-08 2.80901827e-06 1.53210441e-12 6.84802437e-09\n",
            " 8.50331503e-08 6.66549681e-07 2.94716131e-07 4.25771773e-08\n",
            " 7.88004684e-08 1.06348219e-09 9.08346101e-06 8.19470756e-07\n",
            " 6.50522634e-05 9.46228127e-08 3.41986741e-08 3.32235706e-09\n",
            " 5.98361751e-08 2.58617405e-07 5.04942577e-09 4.38588970e-08\n",
            " 5.13413700e-10 2.42086551e-09]\n"
          ]
        }
      ]
    },
    {
      "cell_type": "code",
      "metadata": {
        "colab": {
          "base_uri": "https://localhost:8080/"
        },
        "id": "44dikzqszUoX",
        "outputId": "cd849a12-228a-4a4f-a747-ab638701a6c4"
      },
      "source": [
        "predictions[0].shape"
      ],
      "execution_count": null,
      "outputs": [
        {
          "output_type": "execute_result",
          "data": {
            "text/plain": [
              "(46,)"
            ]
          },
          "metadata": {},
          "execution_count": 36
        }
      ]
    },
    {
      "cell_type": "code",
      "metadata": {
        "colab": {
          "base_uri": "https://localhost:8080/"
        },
        "id": "6yufjz1qzetx",
        "outputId": "3530c2fd-d738-4fbc-fa5d-578f98839b46"
      },
      "source": [
        "np.sum(predictions[0])"
      ],
      "execution_count": null,
      "outputs": [
        {
          "output_type": "execute_result",
          "data": {
            "text/plain": [
              "1.0"
            ]
          },
          "metadata": {},
          "execution_count": 37
        }
      ]
    },
    {
      "cell_type": "code",
      "metadata": {
        "colab": {
          "base_uri": "https://localhost:8080/"
        },
        "id": "R_jJAcsPzg5b",
        "outputId": "f06bee01-c64e-4fe2-ad80-c940c1d32c98"
      },
      "source": [
        "np.argmax(predictions[0])"
      ],
      "execution_count": null,
      "outputs": [
        {
          "output_type": "execute_result",
          "data": {
            "text/plain": [
              "3"
            ]
          },
          "metadata": {},
          "execution_count": 38
        }
      ]
    },
    {
      "cell_type": "markdown",
      "metadata": {
        "id": "VABCRrCUz00P"
      },
      "source": [
        "## 충분히 큰 중간층을 두어야 하는 이유"
      ]
    },
    {
      "cell_type": "code",
      "metadata": {
        "colab": {
          "base_uri": "https://localhost:8080/"
        },
        "id": "8VerT1kLzjMK",
        "outputId": "153fdaf7-ec0f-41d3-c784-136ece0062d5"
      },
      "source": [
        "model = models.Sequential()\n",
        "model.add(layers.Dense(64, activation='relu', input_shape=(10000,)))\n",
        "model.add(layers.Dense(4, activation='relu'))\n",
        "model.add(layers.Dense(46, activation='softmax'))\n",
        "\n",
        "model.compile(optimizer='rmsprop', loss='categorical_crossentropy', metrics=['acc'])\n",
        "\n",
        "model.fit(partial_x_train, partial_y_train, epochs=9, batch_size=512, validation_data=(x_val, y_val))\n",
        "results = model.evaluate(x_test, one_hot_test_labels)"
      ],
      "execution_count": null,
      "outputs": [
        {
          "output_type": "stream",
          "name": "stdout",
          "text": [
            "Epoch 1/9\n",
            "16/16 [==============================] - 1s 56ms/step - loss: 3.6473 - acc: 0.0272 - val_loss: 3.9949 - val_acc: 0.0180\n",
            "Epoch 2/9\n",
            "16/16 [==============================] - 1s 56ms/step - loss: 3.2668 - acc: 0.0851 - val_loss: 4.1012 - val_acc: 0.0180\n",
            "Epoch 3/9\n",
            "16/16 [==============================] - 1s 53ms/step - loss: 2.9623 - acc: 0.1485 - val_loss: 4.1959 - val_acc: 0.0190\n",
            "Epoch 4/9\n",
            "16/16 [==============================] - 1s 47ms/step - loss: 2.6659 - acc: 0.1872 - val_loss: 4.2989 - val_acc: 0.0180\n",
            "Epoch 5/9\n",
            "16/16 [==============================] - 1s 47ms/step - loss: 2.3542 - acc: 0.2233 - val_loss: 4.3928 - val_acc: 0.0740\n",
            "Epoch 6/9\n",
            "16/16 [==============================] - 1s 46ms/step - loss: 2.0186 - acc: 0.6066 - val_loss: 4.6479 - val_acc: 0.1710\n",
            "Epoch 7/9\n",
            "16/16 [==============================] - 1s 48ms/step - loss: 1.6781 - acc: 0.7167 - val_loss: 4.7945 - val_acc: 0.1830\n",
            "Epoch 8/9\n",
            "16/16 [==============================] - 1s 46ms/step - loss: 1.3927 - acc: 0.7429 - val_loss: 4.9958 - val_acc: 0.1890\n",
            "Epoch 9/9\n",
            "16/16 [==============================] - 1s 46ms/step - loss: 1.1930 - acc: 0.7575 - val_loss: 5.2534 - val_acc: 0.1970\n",
            "71/71 [==============================] - 0s 3ms/step - loss: 1.5322 - acc: 0.6883\n"
          ]
        }
      ]
    },
    {
      "cell_type": "code",
      "metadata": {
        "id": "zQQOmB8Wz-1N"
      },
      "source": [
        ""
      ],
      "execution_count": null,
      "outputs": []
    }
  ]
}